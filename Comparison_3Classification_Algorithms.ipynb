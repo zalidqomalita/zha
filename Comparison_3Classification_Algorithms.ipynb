{
 "cells": [
  {
   "cell_type": "markdown",
   "metadata": {},
   "source": [
    "## Classification \n",
    "### Dengan User Knowledge Modeling Dataset\n",
    "\n",
    "##### Oleh : Zalid Qomalita Hijriana\n",
    "September 14, 2019"
   ]
  },
  {
   "cell_type": "markdown",
   "metadata": {},
   "source": [
    "Dataset URL : https://archive.ics.uci.edu/ml/datasets/User+Knowledge+Modeling"
   ]
  },
  {
   "cell_type": "code",
   "execution_count": 184,
   "metadata": {},
   "outputs": [],
   "source": [
    "# SKENARIO TAHAP 1\n",
    "# 1. Preprocessing\n",
    "#     - Label Encoding\n",
    "#     - Pada dataset User Knowledge Modeling, data sudah dipisahkan antara data training dan data testing. \n",
    "#       Sehingga, disini tidak dilakukan split data 90:10 (train:test).\n",
    "# 2. Melakukan holdout validaton dengan split training data menjadi 90:10 (train:validasi)\n",
    "#     - Melakukan validasi data dengan menggunakan 3 metode klasifikasi yaitu SVM, Neural Network, dan Naive Bayes \n",
    "#       dengan variasi parameter berbeda\n",
    "#     - Pilih model terbaik\n",
    "# 3. Melakukan 5-fold validation\n",
    "#     - Melakukan validasi data dengan menggunakan 3 metode klasifikasi yaitu SVM, Neural Network, dan Naive Bayes\n",
    "#       dengan variasi parameter berbeda\n",
    "#     - Pilih model terbaik\n",
    "# 4. Melakukan testing dengan model terbaik"
   ]
  },
  {
   "cell_type": "code",
   "execution_count": 185,
   "metadata": {},
   "outputs": [],
   "source": [
    "# SKENARIO TAHAP 2\n",
    "#1. Data Understanding :\n",
    "#   - Dataset User Knowledge Modelling\n",
    "#   - Distribusi data (memastikan proporsi masing-masing kelas pada saat split data sama dengan data sebelum di split)\n",
    "#   - Identifikasi misklasifikasi dengan menganalisis outlier menggunakan boxplot, \n",
    "#     noisy data, serta korelasi antar atribut.\n",
    "#2. Melakukan perubahan dan optimasi parameter.\n",
    "#3. Tahap perbaikan dan pilih model terbaik\n",
    "#4. Melakukan testing dengan model terbaik\n",
    "#5. Analisis hasil testing\n"
   ]
  },
  {
   "cell_type": "code",
   "execution_count": 186,
   "metadata": {
    "scrolled": true
   },
   "outputs": [],
   "source": [
    "import pandas as pd\n",
    "import numpy as np\n",
    "\n",
    "#Membaca dataset Training\n",
    "df =  pd.read_excel(\"Data_User_Modeling_Dataset_Hamdi Tolga KAHRAMAN.xls\",\"Training_Data\",index_col = None)\n",
    "df = df[['STG','SCG','STR','LPR','PEG',' UNS']]\n"
   ]
  },
  {
   "cell_type": "code",
   "execution_count": 187,
   "metadata": {},
   "outputs": [],
   "source": [
    "#Membaca dataset Testing\n",
    "dfTest = pd.read_excel(\"Data_User_Modeling_Dataset_Hamdi Tolga KAHRAMAN.xls\",\"Test_Data\",index_col = None)\n",
    "dfTest = dfTest[['STG','SCG','STR','LPR','PEG',' UNS']]\n"
   ]
  },
  {
   "cell_type": "code",
   "execution_count": 188,
   "metadata": {},
   "outputs": [
    {
     "data": {
      "text/plain": [
       "Middle      88\n",
       "Low         83\n",
       "High        63\n",
       "very_low    24\n",
       "Name:  UNS, dtype: int64"
      ]
     },
     "execution_count": 188,
     "metadata": {},
     "output_type": "execute_result"
    }
   ],
   "source": [
    "#jumlah data tiap kelas pada data training keseluruhan\n",
    "df[' UNS'].value_counts()"
   ]
  },
  {
   "cell_type": "code",
   "execution_count": null,
   "metadata": {},
   "outputs": [],
   "source": []
  },
  {
   "cell_type": "markdown",
   "metadata": {},
   "source": [
    "### Preprocessing\n",
    "##### - Label Encoding\n",
    "Label encoding dilakukan untuk atribut kelas (UNS).\n",
    "Value : 'very_low'= 1, 'Low'= 2, 'Middle'= 3, 'High'= 4. Label encoding dipilih, karena nilai pada atribut UNS merupakan suatu keterurutan."
   ]
  },
  {
   "cell_type": "code",
   "execution_count": 189,
   "metadata": {},
   "outputs": [],
   "source": [
    "#encoding value train\n",
    "df[' UNS']=df[' UNS'].map({'very_low':1, 'Low':2, 'Middle':3, 'High':4})\n",
    "#encoding value test\n",
    "dfTest[' UNS']=dfTest[' UNS'].map({'Very Low':1, 'Low':2, 'Middle':3, 'High':4})"
   ]
  },
  {
   "cell_type": "code",
   "execution_count": 190,
   "metadata": {},
   "outputs": [
    {
     "data": {
      "text/plain": [
       "(258, 6)"
      ]
     },
     "execution_count": 190,
     "metadata": {},
     "output_type": "execute_result"
    }
   ],
   "source": [
    "#Cek jumlah baris dan kolom\n",
    "df.shape"
   ]
  },
  {
   "cell_type": "code",
   "execution_count": 191,
   "metadata": {},
   "outputs": [],
   "source": [
    "#Memisahkan data input dan target\n",
    "#x : data input , y : data target \n",
    "\n",
    "x_train = df[['STG','SCG','STR','LPR','PEG']]\n",
    "y_train = df[[' UNS']]"
   ]
  },
  {
   "cell_type": "code",
   "execution_count": 192,
   "metadata": {},
   "outputs": [
    {
     "name": "stdout",
     "output_type": "stream",
     "text": [
      "---------Data Training---------\n",
      "jumlah data training : 258\n",
      "Data training berada pada variabel x_train dan y_train\n"
     ]
    }
   ],
   "source": [
    "print('---------Data Training---------')\n",
    "print('jumlah data training :', len(x_train))\n",
    "print('Data training berada pada variabel x_train dan y_train')"
   ]
  },
  {
   "cell_type": "markdown",
   "metadata": {},
   "source": [
    "\n"
   ]
  },
  {
   "cell_type": "markdown",
   "metadata": {},
   "source": [
    "### 1. Holdout\n",
    "Split data. 90% untuk training , 10% untuk validasi "
   ]
  },
  {
   "cell_type": "markdown",
   "metadata": {},
   "source": [
    "(variabel: xho_train, xho_val, yho_train, yho_val)"
   ]
  },
  {
   "cell_type": "code",
   "execution_count": 193,
   "metadata": {},
   "outputs": [
    {
     "name": "stdout",
     "output_type": "stream",
     "text": [
      "jumlah data training : 232\n",
      "jumlah data validasi : 26\n"
     ]
    }
   ],
   "source": [
    "from sklearn.model_selection import train_test_split\n",
    "xho_train, xho_val, yho_train, yho_val = train_test_split(x_train,y_train,test_size=0.1,random_state=1, stratify = y_train)\n",
    "print('jumlah data training :', len(xho_train))\n",
    "print('jumlah data validasi :', len(xho_val))"
   ]
  },
  {
   "cell_type": "markdown",
   "metadata": {},
   "source": [
    "#### - Proses Training \n",
    "Menggunakan metode klasifikasi SVM, Neural Network, dan Naive Bayes"
   ]
  },
  {
   "cell_type": "code",
   "execution_count": 346,
   "metadata": {},
   "outputs": [
    {
     "name": "stdout",
     "output_type": "stream",
     "text": [
      "C     =  1\n",
      "Gamma =  2    |akurasi  =  0.8076923076923077\n",
      "Gamma =  4    |akurasi  =  0.8076923076923077\n",
      "Gamma =  6    |akurasi  =  0.8076923076923077\n",
      "Gamma =  8    |akurasi  =  0.8076923076923077\n",
      "Gamma =  10    |akurasi  =  0.8076923076923077\n",
      "C     =  2\n",
      "Gamma =  2    |akurasi  =  0.8846153846153846\n",
      "Gamma =  4    |akurasi  =  0.8846153846153846\n",
      "Gamma =  6    |akurasi  =  0.8846153846153846\n",
      "Gamma =  8    |akurasi  =  0.8846153846153846\n",
      "Gamma =  10    |akurasi  =  0.8846153846153846\n",
      "C     =  3\n",
      "Gamma =  2    |akurasi  =  0.9230769230769231\n",
      "Gamma =  4    |akurasi  =  0.9230769230769231\n",
      "Gamma =  6    |akurasi  =  0.9230769230769231\n",
      "Gamma =  8    |akurasi  =  0.9230769230769231\n",
      "Gamma =  10    |akurasi  =  0.9230769230769231\n",
      "C     =  4\n",
      "Gamma =  2    |akurasi  =  0.9615384615384616\n",
      "Gamma =  4    |akurasi  =  0.9615384615384616\n",
      "Gamma =  6    |akurasi  =  0.9615384615384616\n",
      "Gamma =  8    |akurasi  =  0.9615384615384616\n",
      "Gamma =  10    |akurasi  =  0.9615384615384616\n",
      "C     =  5\n",
      "Gamma =  2    |akurasi  =  0.9615384615384616\n",
      "Gamma =  4    |akurasi  =  0.9615384615384616\n",
      "Gamma =  6    |akurasi  =  0.9615384615384616\n",
      "Gamma =  8    |akurasi  =  0.9615384615384616\n",
      "Gamma =  10    |akurasi  =  0.9615384615384616\n"
     ]
    }
   ],
   "source": [
    "from sklearn.svm import SVC\n",
    "from sklearn.metrics import confusion_matrix\n",
    "from sklearn.metrics import classification_report\n",
    "\n",
    "c = [1,2,3,4,5]\n",
    "g = [2,4,6,8,10]\n",
    "\n",
    "for x in c:\n",
    "    print('C     = ',x)\n",
    "    for y in g:\n",
    "        #SVM------------------------------------------------------\n",
    "        modelSVM = SVC(kernel='linear',C = x, gamma= y).fit(xho_train,yho_train.values.ravel())\n",
    "        pred = modelSVM.predict(xho_val)\n",
    "        accuracyHOSVM = modelSVM.score(xho_val,yho_val)\n",
    "        print('Gamma = ',y ,'   |akurasi  = ',accuracyHOSVM)\n",
    "    \n",
    "        "
   ]
  },
  {
   "cell_type": "code",
   "execution_count": 347,
   "metadata": {},
   "outputs": [
    {
     "name": "stdout",
     "output_type": "stream",
     "text": [
      "Akurasi : 0.9615384615384616\n",
      "confusion matrik :\n",
      "[[2 1 0 0]\n",
      " [0 8 0 0]\n",
      " [0 0 9 0]\n",
      " [0 0 0 6]]\n"
     ]
    }
   ],
   "source": [
    "# Pilih model dengan akurasi terbaik\n",
    "# model dengan nilai C= 4 atau C= 5, nilai gamma tidak terlalu berpengaruh sehingga dapat dipilih salah satu, misal gamma = 10\n",
    "mSVM = SVC(kernel='linear',C = 4, gamma= 10).fit(xho_train,yho_train.values.ravel())\n",
    "pred = modelSVM.predict(xho_val)\n",
    "accuracyHOSVM = modelSVM.score(xho_val,yho_val)\n",
    "cm = confusion_matrix(yho_val,pred)\n",
    "print('Akurasi :', accuracyHOSVM)\n",
    "print('confusion matrik :')\n",
    "print(cm)"
   ]
  },
  {
   "cell_type": "code",
   "execution_count": null,
   "metadata": {},
   "outputs": [],
   "source": []
  },
  {
   "cell_type": "code",
   "execution_count": 348,
   "metadata": {},
   "outputs": [
    {
     "name": "stdout",
     "output_type": "stream",
     "text": [
      "Hidden layer  =  [20, 20]\n",
      "Learning rate =  0.02    |akurasi       =  1.0\n",
      "Learning rate =  0.05    |akurasi       =  1.0\n",
      "Learning rate =  0.08    |akurasi       =  0.9615384615384616\n",
      "Learning rate =  0.1    |akurasi       =  0.9615384615384616\n",
      "Learning rate =  0.2    |akurasi       =  0.9615384615384616\n",
      "Hidden layer  =  [40, 40]\n",
      "Learning rate =  0.02    |akurasi       =  0.9615384615384616\n",
      "Learning rate =  0.05    |akurasi       =  0.9615384615384616\n",
      "Learning rate =  0.08    |akurasi       =  0.9615384615384616\n",
      "Learning rate =  0.1    |akurasi       =  1.0\n",
      "Learning rate =  0.2    |akurasi       =  0.9615384615384616\n",
      "Hidden layer  =  [60, 60]\n",
      "Learning rate =  0.02    |akurasi       =  0.9615384615384616\n",
      "Learning rate =  0.05    |akurasi       =  0.9615384615384616\n",
      "Learning rate =  0.08    |akurasi       =  0.9230769230769231\n",
      "Learning rate =  0.1    |akurasi       =  0.34615384615384615\n",
      "Learning rate =  0.2    |akurasi       =  0.34615384615384615\n",
      "Hidden layer  =  [80, 80]\n",
      "Learning rate =  0.02    |akurasi       =  1.0\n",
      "Learning rate =  0.05    |akurasi       =  0.34615384615384615\n",
      "Learning rate =  0.08    |akurasi       =  0.8461538461538461\n",
      "Learning rate =  0.1    |akurasi       =  0.34615384615384615\n",
      "Learning rate =  0.2    |akurasi       =  0.34615384615384615\n",
      "Hidden layer  =  [100, 100]\n",
      "Learning rate =  0.02    |akurasi       =  0.9615384615384616\n",
      "Learning rate =  0.05    |akurasi       =  1.0\n",
      "Learning rate =  0.08    |akurasi       =  0.8461538461538461\n",
      "Learning rate =  0.1    |akurasi       =  0.9615384615384616\n",
      "Learning rate =  0.2    |akurasi       =  0.34615384615384615\n"
     ]
    }
   ],
   "source": [
    "from sklearn.neural_network import MLPClassifier\n",
    "\n",
    "#Neural Network -------------------------------------------\n",
    "hl = [[20,20],[40,40],[60,60],[80,80],[100,100]]\n",
    "lr = [0.02, 0.05, 0.08, 0.1, 0.2]\n",
    "\n",
    "for x in hl:\n",
    "    print('Hidden layer  = ',x)\n",
    "    for y in lr:\n",
    "        modelNN = MLPClassifier(max_iter=1000, activation='logistic',random_state=1, hidden_layer_sizes=x, learning_rate_init=y).fit(xho_train,yho_train.values.ravel())\n",
    "        predNN = modelNN.predict(xho_val)\n",
    "        akurasiNN = modelNN.score(xho_val,yho_val)\n",
    "        print('Learning rate = ',y,'   |akurasi       = ',akurasiNN)\n",
    "        "
   ]
  },
  {
   "cell_type": "code",
   "execution_count": 349,
   "metadata": {},
   "outputs": [
    {
     "name": "stdout",
     "output_type": "stream",
     "text": [
      "akurasi Holdout - Neural Network =  1.0\n",
      "confusion matrik :\n",
      "[[3 0 0 0]\n",
      " [0 8 0 0]\n",
      " [0 0 9 0]\n",
      " [0 0 0 6]]\n"
     ]
    }
   ],
   "source": [
    "#Pilih Model terbaik Neural Network\n",
    "#Berdasarkan percobaan diatas, learning rate = 0.02 dan hidden layer =[20,20] menghasilkan rata-rata akurasi tertinggi\n",
    "\n",
    "mNN = MLPClassifier(max_iter=1000, activation='logistic',random_state=1, hidden_layer_sizes=[20,20], learning_rate_init=0.02).fit(xho_train,yho_train.values.ravel())\n",
    "predNN = mNN.predict(xho_val)\n",
    "accuracyHONN = mNN.score(xho_val,yho_val)\n",
    "print('akurasi Holdout - Neural Network = ',accuracyHONN)\n",
    "cmNN = confusion_matrix(yho_val,predNN)\n",
    "print('confusion matrik :')\n",
    "print(cmNN)"
   ]
  },
  {
   "cell_type": "code",
   "execution_count": null,
   "metadata": {},
   "outputs": [],
   "source": []
  },
  {
   "cell_type": "code",
   "execution_count": 369,
   "metadata": {},
   "outputs": [
    {
     "name": "stdout",
     "output_type": "stream",
     "text": [
      "var smoothing  =  1    |akurasi       =  0.6538461538461539\n",
      "var smoothing  =  0.01    |akurasi       =  0.9230769230769231\n",
      "var smoothing  =  0.001    |akurasi       =  0.9230769230769231\n",
      "var smoothing  =  0.0001    |akurasi       =  0.9230769230769231\n",
      "var smoothing  =  1e-05    |akurasi       =  0.9230769230769231\n",
      "akurasi Holdout - Naive Bayes =  0.9230769230769231\n",
      "confusion matrik :\n",
      "[[3 0 0 0]\n",
      " [0 8 0 0]\n",
      " [0 2 7 0]\n",
      " [0 0 0 6]]\n"
     ]
    }
   ],
   "source": [
    "from sklearn.naive_bayes import GaussianNB\n",
    "\n",
    "score_nb = []\n",
    "ep = [1, 1e-2, 1e-3, 1e-4, 1e-5]\n",
    "for x in ep:\n",
    "    modelNB = GaussianNB(var_smoothing=x).fit(xho_train,yho_train.values.ravel())\n",
    "    predNB = modelNB.predict(xho_val)\n",
    "    akurasiNB = modelNB.score(xho_val,yho_val)\n",
    "    print('var smoothing  = ',x,'   |akurasi       = ',akurasiNB)\n",
    "    \n",
    "    \n",
    "\n",
    "cmNB = confusion_matrix(yho_val,predNB)\n",
    "print('akurasi Holdout - Naive Bayes = ',akurasiNB)\n",
    "print('confusion matrik :')\n",
    "print(cmNB)"
   ]
  },
  {
   "cell_type": "code",
   "execution_count": null,
   "metadata": {},
   "outputs": [],
   "source": []
  },
  {
   "cell_type": "markdown",
   "metadata": {},
   "source": [
    "### 2. K-fold\n",
    "K-FOLD dengan k = 5"
   ]
  },
  {
   "cell_type": "code",
   "execution_count": 198,
   "metadata": {},
   "outputs": [],
   "source": [
    "import numpy as np\n",
    "from sklearn.model_selection import KFold\n",
    "kf = KFold(n_splits=5)"
   ]
  },
  {
   "cell_type": "markdown",
   "metadata": {},
   "source": [
    "#### - Proses Pemisahan Data dan Training \n",
    "Data dilatih dengan mengunakan metode klasifikasi SVM, Neural Network, dan Naive Bayes"
   ]
  },
  {
   "cell_type": "code",
   "execution_count": 354,
   "metadata": {},
   "outputs": [
    {
     "name": "stdout",
     "output_type": "stream",
     "text": [
      "C =  1\n",
      "gamma =  2     |akurasi= 0.8491704374057315\n",
      "gamma =  4     |akurasi= 0.8491704374057315\n",
      "gamma =  6     |akurasi= 0.8491704374057316\n",
      "gamma =  8     |akurasi= 0.8491704374057315\n",
      "gamma =  10     |akurasi= 0.8491704374057315\n",
      "C =  2\n",
      "gamma =  2     |akurasi= 0.8562594268476622\n",
      "gamma =  4     |akurasi= 0.8613229907347554\n",
      "gamma =  6     |akurasi= 0.8651206636500754\n",
      "gamma =  8     |akurasi= 0.8680744092508799\n",
      "gamma =  10     |akurasi= 0.8704374057315234\n",
      "C =  3\n",
      "gamma =  2     |akurasi= 0.8744755244755243\n",
      "gamma =  4     |akurasi= 0.8778406234288586\n",
      "gamma =  6     |akurasi= 0.8806880148509107\n",
      "gamma =  8     |akurasi= 0.8831286360698124\n",
      "gamma =  10     |akurasi= 0.8852438411261941\n",
      "C =  4\n",
      "gamma =  2     |akurasi= 0.8878205128205128\n",
      "gamma =  4     |akurasi= 0.8900940466684412\n",
      "gamma =  6     |akurasi= 0.8921149656443775\n",
      "gamma =  8     |akurasi= 0.8939231563070574\n",
      "gamma =  10     |akurasi= 0.8955505279034692\n",
      "C =  5\n",
      "gamma =  2     |akurasi= 0.8970229117287941\n",
      "gamma =  4     |akurasi= 0.8983614424790897\n",
      "gamma =  6     |akurasi= 0.8995835792510984\n",
      "gamma =  8     |akurasi= 0.9007038712921066\n",
      "gamma =  10     |akurasi= 0.9017345399698341\n"
     ]
    }
   ],
   "source": [
    "score_svm = []\n",
    "\n",
    "#SVM\n",
    "c = [1,2,3,4,5]\n",
    "g = [2,4,6,8,10]\n",
    "\n",
    "for x in c:\n",
    "    print('C = ',x)\n",
    "    for y in g:        \n",
    "        for train_kf,val_kf in kf.split(x_train,y_train):\n",
    "            #print(\"TRAIN:\", train_kf, \"VALIDATION:\", val_kf)\n",
    "            xTrainKf, xValKf = x_train.iloc[train_kf], x_train.iloc[val_kf]\n",
    "            yTrainKf, yValKf = y_train.iloc[train_kf], y_train.iloc[val_kf]\n",
    "            modelKfSVM = SVC(kernel='linear',C = x, gamma= y).fit(xTrainKf,yTrainKf.values.ravel())\n",
    "            score_svm.append(modelKfSVM.score(xValKf,yValKf))\n",
    "        svmmean = np.mean(score_svm)\n",
    "        print('gamma = ',y,'    |akurasi=',svmmean)\n"
   ]
  },
  {
   "cell_type": "code",
   "execution_count": 355,
   "metadata": {},
   "outputs": [
    {
     "name": "stdout",
     "output_type": "stream",
     "text": [
      "Hidden Layer = [20, 20]\n",
      "learning rate =  0.02     |akurasi= 0.934238310708899\n",
      "learning rate =  0.05     |akurasi= 0.934238310708899\n",
      "learning rate =  0.08     |akurasi= 0.934238310708899\n",
      "learning rate =  0.1     |akurasi= 0.934238310708899\n",
      "learning rate =  0.2     |akurasi= 0.9342383107088988\n",
      "Hidden Layer = [40, 40]\n",
      "learning rate =  0.02     |akurasi= 0.9342383107088988\n",
      "learning rate =  0.05     |akurasi= 0.9342383107088987\n",
      "learning rate =  0.08     |akurasi= 0.9342383107088988\n",
      "learning rate =  0.1     |akurasi= 0.9342383107088987\n",
      "learning rate =  0.2     |akurasi= 0.9342383107088988\n",
      "Hidden Layer = [60, 60]\n",
      "learning rate =  0.02     |akurasi= 0.9342383107088988\n",
      "learning rate =  0.05     |akurasi= 0.934238310708899\n",
      "learning rate =  0.08     |akurasi= 0.9342383107088991\n",
      "learning rate =  0.1     |akurasi= 0.934238310708899\n",
      "learning rate =  0.2     |akurasi= 0.9342383107088991\n",
      "Hidden Layer = [80, 80]\n",
      "learning rate =  0.02     |akurasi= 0.934238310708899\n",
      "learning rate =  0.05     |akurasi= 0.9342383107088993\n",
      "learning rate =  0.08     |akurasi= 0.9342383107088991\n",
      "learning rate =  0.1     |akurasi= 0.9342383107088993\n",
      "learning rate =  0.2     |akurasi= 0.9342383107088992\n",
      "Hidden Layer = [100, 100]\n",
      "learning rate =  0.02     |akurasi= 0.9342383107088988\n",
      "learning rate =  0.05     |akurasi= 0.9342383107088991\n",
      "learning rate =  0.08     |akurasi= 0.934238310708899\n",
      "learning rate =  0.1     |akurasi= 0.934238310708899\n",
      "learning rate =  0.2     |akurasi= 0.9342383107088991\n"
     ]
    }
   ],
   "source": [
    "#Neural Network\n",
    "score_nn = []\n",
    "hl = [[20,20],[40,40],[60,60],[80,80],[100,100]]\n",
    "lr = [0.02, 0.05, 0.08, 0.1, 0.2]\n",
    "\n",
    "for x in hl:\n",
    "    print('Hidden Layer =', x)\n",
    "    for y in lr:\n",
    "        for train_kf,val_kf in kf.split(x_train,y_train):\n",
    "            #print(\"TRAIN:\", train_kf, \"VALIDATION:\", val_kf)\n",
    "            xTrainKf, xValKf = x_train.iloc[train_kf], x_train.iloc[val_kf]\n",
    "            yTrainKf, yValKf = y_train.iloc[train_kf], y_train.iloc[val_kf]\n",
    "            modelKfNN = MLPClassifier(max_iter=1000, activation='logistic',random_state=1, hidden_layer_sizes=x, learning_rate_init=y).fit(xTrainKf,yTrainKf.values.ravel())\n",
    "            score_nn.append(modelKfSVM.score(xValKf,yValKf))\n",
    "        nnmean = np.mean(score_nn)\n",
    "        print('learning rate = ',y,'    |akurasi=',nnmean)"
   ]
  },
  {
   "cell_type": "code",
   "execution_count": 367,
   "metadata": {},
   "outputs": [
    {
     "name": "stdout",
     "output_type": "stream",
     "text": [
      "var smoothing  =  1    |akurasi       =  0.934238310708899\n",
      "var smoothing  =  0.01    |akurasi       =  0.934238310708899\n",
      "var smoothing  =  0.001    |akurasi       =  0.934238310708899\n",
      "var smoothing  =  0.0001    |akurasi       =  0.934238310708899\n",
      "var smoothing  =  1e-05    |akurasi       =  0.9342383107088988\n"
     ]
    }
   ],
   "source": [
    "#Naive Bayes\n",
    "score_nb = []\n",
    "ep = [1, 1e-2, 1e-3, 1e-4, 1e-5]\n",
    "for x in ep:\n",
    "        for train_kf,val_kf in kf.split(x_train,y_train):\n",
    "            #print(\"TRAIN:\", train_kf, \"VALIDATION:\", val_kf)\n",
    "            xTrainKf, xValKf = x_train.iloc[train_kf], x_train.iloc[val_kf]\n",
    "            yTrainKf, yValKf = y_train.iloc[train_kf], y_train.iloc[val_kf]\n",
    "            modelKfNN = GaussianNB(var_smoothing=x).fit(xTrainKf,yTrainKf.values.ravel())\n",
    "            score_nb.append(modelKfSVM.score(xValKf,yValKf))\n",
    "        nbmean = np.mean(score_nb)\n",
    "        print('var smoothing  = ',x,'   |akurasi       = ',nbmean)"
   ]
  },
  {
   "cell_type": "markdown",
   "metadata": {},
   "source": [
    "#### Daftar Akurasi"
   ]
  },
  {
   "cell_type": "code",
   "execution_count": 366,
   "metadata": {},
   "outputs": [
    {
     "name": "stdout",
     "output_type": "stream",
     "text": [
      "--------------DAFTAR AKURASI-----------------------------------\n",
      "akurasi Holdout - SVM =  0.9615384615384616\n",
      "akurasi Holdout - Neural Network =  1.0\n",
      "akurasi Holdout - Naive Bayes =  0.9230769230769231\n",
      "akurasi rata-rata kfold - SVM =  0.9017345399698341\n",
      "akurasi rata-rata kfold - Neural Network =  0.9342383107088991\n",
      "akurasi rata-rata kfold - Naive Bayes =  0.9342383107088988\n"
     ]
    }
   ],
   "source": [
    "print('--------------DAFTAR AKURASI-----------------------------------')\n",
    "print('akurasi Holdout - SVM = ',accuracyHOSVM)\n",
    "print('akurasi Holdout - Neural Network = ',accuracyHONN)\n",
    "print('akurasi Holdout - Naive Bayes = ',accuracyHONB)\n",
    "print('akurasi rata-rata kfold - SVM = ', np.max(svmmean))\n",
    "print('akurasi rata-rata kfold - Neural Network = ', np.max(nnmean))\n",
    "print('akurasi rata-rata kfold - Naive Bayes = ', np.max(nbmean))"
   ]
  },
  {
   "cell_type": "markdown",
   "metadata": {},
   "source": [
    "----------------------------------------------------------------\n",
    "Berdasarkan hasil akurasi data validasi tersebut, maka terpilih model terbaik untuk dataset User Kowledge Modelling yaitu dengen metode pembelajaran Neural Network yang menghasilkan akurasi tertinggi yakni 1.0. Sehingga, model inilah yang nantinya akan digunakan untuk tahap testing data.  \n",
    "\n",
    "-----------------------------------------------------------------"
   ]
  },
  {
   "cell_type": "code",
   "execution_count": 294,
   "metadata": {},
   "outputs": [],
   "source": [
    "# Model terbaik untuk Full Train\n",
    "#Neural Network-------------------------------------------\n",
    "modelNNFinal = MLPClassifier(learning_rate_init=0.02, max_iter=1000, random_state=1, activation='logistic',hidden_layer_sizes=[20,20]).fit(x_train,y_train.values.ravel())"
   ]
  },
  {
   "cell_type": "markdown",
   "metadata": {},
   "source": [
    "### Testing\n",
    "    Menggunakan data testing yang sudah disiapkan pada tahap sebelumnya (variable x_test, y_test)"
   ]
  },
  {
   "cell_type": "code",
   "execution_count": 295,
   "metadata": {},
   "outputs": [],
   "source": [
    "#Memisahkan data testing kedalam x_test dan y_test\n",
    "\n",
    "x_test = dfTest[['STG','SCG','STR','LPR','PEG']]\n",
    "y_test = dfTest[[' UNS']]"
   ]
  },
  {
   "cell_type": "code",
   "execution_count": 296,
   "metadata": {},
   "outputs": [
    {
     "name": "stdout",
     "output_type": "stream",
     "text": [
      "---------Data Testing---------\n",
      "jumlah data Testing : 145\n",
      "Data testing berada pada variabel x_test dan y_test\n"
     ]
    }
   ],
   "source": [
    "print('---------Data Testing---------')\n",
    "print('jumlah data Testing :', len(x_test))\n",
    "print('Data testing berada pada variabel x_test dan y_test')"
   ]
  },
  {
   "cell_type": "code",
   "execution_count": 297,
   "metadata": {},
   "outputs": [
    {
     "name": "stdout",
     "output_type": "stream",
     "text": [
      "akurasi Holdout - Neural Network =  0.9862068965517241\n",
      "Confusion Matrik =\n",
      "[[26  0  0  0]\n",
      " [ 0 46  0  0]\n",
      " [ 0  1 32  1]\n",
      " [ 0  0  0 39]]\n",
      "-----------------------------------\n",
      "              precision    recall  f1-score   support\n",
      "\n",
      "           1       1.00      1.00      1.00        26\n",
      "           2       0.98      1.00      0.99        46\n",
      "           3       1.00      0.94      0.97        34\n",
      "           4       0.97      1.00      0.99        39\n",
      "\n",
      "    accuracy                           0.99       145\n",
      "   macro avg       0.99      0.99      0.99       145\n",
      "weighted avg       0.99      0.99      0.99       145\n",
      "\n"
     ]
    }
   ],
   "source": [
    "predictNN = modelNNFinal.predict(x_test)\n",
    "accuracyFinal = modelNNFinal.score(x_test,y_test)\n",
    "\n",
    "cmNNHO = confusion_matrix(y_test,predictNN)\n",
    "print('akurasi Holdout - Neural Network = ',accuracyFinal)\n",
    "print('Confusion Matrik =')\n",
    "print(cmNNHO)\n",
    "print('-----------------------------------')\n",
    "print(classification_report(y_test,predictNN))"
   ]
  },
  {
   "cell_type": "markdown",
   "metadata": {},
   "source": [
    "## ANALISIS\n",
    "### 1. Understanding Data"
   ]
  },
  {
   "cell_type": "markdown",
   "metadata": {},
   "source": [
    "Dataset User Knowledge Modelling merupakan dataset yang digunakan untuk memprediksi level knowledge dari user. \n",
    "Prediksi mengenai level knowledge dari user ini menjadi penting karena nantinya dapat digunakan untuk mengcustomisasi sistem \n",
    "sehingga bisa disesuaikan dengan kebutuhan user.  Sistem perlu untuk -say the 'right' thing at the 'right' time in the 'right' way.\n",
    "Sehingga diperlukan representasi tentang user."
   ]
  },
  {
   "cell_type": "markdown",
   "metadata": {},
   "source": [
    "Dataset ini terdiri dari 6 atribute (5 continuous input attributes dan 1 discrete target attribute). Untuk data training terdiri dari 258 data. "
   ]
  },
  {
   "cell_type": "code",
   "execution_count": 207,
   "metadata": {},
   "outputs": [
    {
     "name": "stdout",
     "output_type": "stream",
     "text": [
      "---------Data Training---------\n",
      "jumlah data training : 258\n",
      "Data training berada pada variabel x_train dan y_train\n"
     ]
    }
   ],
   "source": [
    "print('---------Data Training---------')\n",
    "print('jumlah data training :', len(x_train))\n",
    "print('Data training berada pada variabel x_train dan y_train')"
   ]
  },
  {
   "cell_type": "code",
   "execution_count": 208,
   "metadata": {},
   "outputs": [
    {
     "data": {
      "text/html": [
       "<div>\n",
       "<style scoped>\n",
       "    .dataframe tbody tr th:only-of-type {\n",
       "        vertical-align: middle;\n",
       "    }\n",
       "\n",
       "    .dataframe tbody tr th {\n",
       "        vertical-align: top;\n",
       "    }\n",
       "\n",
       "    .dataframe thead th {\n",
       "        text-align: right;\n",
       "    }\n",
       "</style>\n",
       "<table border=\"1\" class=\"dataframe\">\n",
       "  <thead>\n",
       "    <tr style=\"text-align: right;\">\n",
       "      <th></th>\n",
       "      <th>STG</th>\n",
       "      <th>SCG</th>\n",
       "      <th>STR</th>\n",
       "      <th>LPR</th>\n",
       "      <th>PEG</th>\n",
       "      <th>UNS</th>\n",
       "    </tr>\n",
       "  </thead>\n",
       "  <tbody>\n",
       "    <tr>\n",
       "      <th>0</th>\n",
       "      <td>0.00</td>\n",
       "      <td>0.00</td>\n",
       "      <td>0.00</td>\n",
       "      <td>0.00</td>\n",
       "      <td>0.00</td>\n",
       "      <td>1</td>\n",
       "    </tr>\n",
       "    <tr>\n",
       "      <th>1</th>\n",
       "      <td>0.08</td>\n",
       "      <td>0.08</td>\n",
       "      <td>0.10</td>\n",
       "      <td>0.24</td>\n",
       "      <td>0.90</td>\n",
       "      <td>4</td>\n",
       "    </tr>\n",
       "    <tr>\n",
       "      <th>2</th>\n",
       "      <td>0.06</td>\n",
       "      <td>0.06</td>\n",
       "      <td>0.05</td>\n",
       "      <td>0.25</td>\n",
       "      <td>0.33</td>\n",
       "      <td>2</td>\n",
       "    </tr>\n",
       "    <tr>\n",
       "      <th>3</th>\n",
       "      <td>0.10</td>\n",
       "      <td>0.10</td>\n",
       "      <td>0.15</td>\n",
       "      <td>0.65</td>\n",
       "      <td>0.30</td>\n",
       "      <td>3</td>\n",
       "    </tr>\n",
       "    <tr>\n",
       "      <th>4</th>\n",
       "      <td>0.08</td>\n",
       "      <td>0.08</td>\n",
       "      <td>0.08</td>\n",
       "      <td>0.98</td>\n",
       "      <td>0.24</td>\n",
       "      <td>2</td>\n",
       "    </tr>\n",
       "  </tbody>\n",
       "</table>\n",
       "</div>"
      ],
      "text/plain": [
       "    STG   SCG   STR   LPR   PEG   UNS\n",
       "0  0.00  0.00  0.00  0.00  0.00     1\n",
       "1  0.08  0.08  0.10  0.24  0.90     4\n",
       "2  0.06  0.06  0.05  0.25  0.33     2\n",
       "3  0.10  0.10  0.15  0.65  0.30     3\n",
       "4  0.08  0.08  0.08  0.98  0.24     2"
      ]
     },
     "execution_count": 208,
     "metadata": {},
     "output_type": "execute_result"
    }
   ],
   "source": [
    "#Pengecekan data training\n",
    "df.head()"
   ]
  },
  {
   "cell_type": "markdown",
   "metadata": {},
   "source": [
    "Seperti yang terlihat pada tampilan data ke 1-5 diatas, dapat diketahui bahwa nilai dari masing-masing atribut sudah ternormalisasi dari awal, sehingga tidak perlu dilakukan tahap preprocessing lagi untuk normalisasi data. Masing-masing atribut sudah direpresentasikan kedalam range 0-1, dimana data dalam range ini sangat cocok digunakan untuk masukan metode klasifikasi, yaitu neural network, svm, dan naive bayes.  "
   ]
  },
  {
   "cell_type": "markdown",
   "metadata": {},
   "source": [
    "Atribut kelas (UNS), pada awalnya masih dalam bentuk ketegorikal (very low, low, middle dan high) yang menyatakan level user : beginner, intermediate, expert, dan advance. Atribut kelas perlu diubah kedalam bentuk digit dengan melakukan proses preprocessing yakni label encoding. Label encoding dipilih karena nilai data merupakan nilai yang terurut.\n"
   ]
  },
  {
   "cell_type": "markdown",
   "metadata": {},
   "source": [
    "Untuk selanjutnya, dapat dilihat juga mengenai deskripsi data dari masing-masing atribut, sebagai berikut:"
   ]
  },
  {
   "cell_type": "code",
   "execution_count": 209,
   "metadata": {
    "scrolled": true
   },
   "outputs": [
    {
     "data": {
      "text/html": [
       "<div>\n",
       "<style scoped>\n",
       "    .dataframe tbody tr th:only-of-type {\n",
       "        vertical-align: middle;\n",
       "    }\n",
       "\n",
       "    .dataframe tbody tr th {\n",
       "        vertical-align: top;\n",
       "    }\n",
       "\n",
       "    .dataframe thead th {\n",
       "        text-align: right;\n",
       "    }\n",
       "</style>\n",
       "<table border=\"1\" class=\"dataframe\">\n",
       "  <thead>\n",
       "    <tr style=\"text-align: right;\">\n",
       "      <th></th>\n",
       "      <th>STG</th>\n",
       "      <th>SCG</th>\n",
       "      <th>STR</th>\n",
       "      <th>LPR</th>\n",
       "      <th>PEG</th>\n",
       "      <th>UNS</th>\n",
       "    </tr>\n",
       "  </thead>\n",
       "  <tbody>\n",
       "    <tr>\n",
       "      <th>count</th>\n",
       "      <td>258.000000</td>\n",
       "      <td>258.000000</td>\n",
       "      <td>258.000000</td>\n",
       "      <td>258.000000</td>\n",
       "      <td>258.000000</td>\n",
       "      <td>258.000000</td>\n",
       "    </tr>\n",
       "    <tr>\n",
       "      <th>mean</th>\n",
       "      <td>0.371147</td>\n",
       "      <td>0.355674</td>\n",
       "      <td>0.468004</td>\n",
       "      <td>0.432713</td>\n",
       "      <td>0.458539</td>\n",
       "      <td>2.736434</td>\n",
       "    </tr>\n",
       "    <tr>\n",
       "      <th>std</th>\n",
       "      <td>0.210271</td>\n",
       "      <td>0.211962</td>\n",
       "      <td>0.245940</td>\n",
       "      <td>0.248108</td>\n",
       "      <td>0.255211</td>\n",
       "      <td>0.933754</td>\n",
       "    </tr>\n",
       "    <tr>\n",
       "      <th>min</th>\n",
       "      <td>0.000000</td>\n",
       "      <td>0.000000</td>\n",
       "      <td>0.000000</td>\n",
       "      <td>0.000000</td>\n",
       "      <td>0.000000</td>\n",
       "      <td>1.000000</td>\n",
       "    </tr>\n",
       "    <tr>\n",
       "      <th>25%</th>\n",
       "      <td>0.240750</td>\n",
       "      <td>0.210000</td>\n",
       "      <td>0.291250</td>\n",
       "      <td>0.250000</td>\n",
       "      <td>0.250000</td>\n",
       "      <td>2.000000</td>\n",
       "    </tr>\n",
       "    <tr>\n",
       "      <th>50%</th>\n",
       "      <td>0.327000</td>\n",
       "      <td>0.302500</td>\n",
       "      <td>0.490000</td>\n",
       "      <td>0.330000</td>\n",
       "      <td>0.500000</td>\n",
       "      <td>3.000000</td>\n",
       "    </tr>\n",
       "    <tr>\n",
       "      <th>75%</th>\n",
       "      <td>0.495000</td>\n",
       "      <td>0.497500</td>\n",
       "      <td>0.690000</td>\n",
       "      <td>0.647500</td>\n",
       "      <td>0.660000</td>\n",
       "      <td>3.000000</td>\n",
       "    </tr>\n",
       "    <tr>\n",
       "      <th>max</th>\n",
       "      <td>0.990000</td>\n",
       "      <td>0.900000</td>\n",
       "      <td>0.950000</td>\n",
       "      <td>0.990000</td>\n",
       "      <td>0.930000</td>\n",
       "      <td>4.000000</td>\n",
       "    </tr>\n",
       "  </tbody>\n",
       "</table>\n",
       "</div>"
      ],
      "text/plain": [
       "              STG         SCG         STR         LPR         PEG         UNS\n",
       "count  258.000000  258.000000  258.000000  258.000000  258.000000  258.000000\n",
       "mean     0.371147    0.355674    0.468004    0.432713    0.458539    2.736434\n",
       "std      0.210271    0.211962    0.245940    0.248108    0.255211    0.933754\n",
       "min      0.000000    0.000000    0.000000    0.000000    0.000000    1.000000\n",
       "25%      0.240750    0.210000    0.291250    0.250000    0.250000    2.000000\n",
       "50%      0.327000    0.302500    0.490000    0.330000    0.500000    3.000000\n",
       "75%      0.495000    0.497500    0.690000    0.647500    0.660000    3.000000\n",
       "max      0.990000    0.900000    0.950000    0.990000    0.930000    4.000000"
      ]
     },
     "execution_count": 209,
     "metadata": {},
     "output_type": "execute_result"
    }
   ],
   "source": [
    "df.describe()"
   ]
  },
  {
   "cell_type": "markdown",
   "metadata": {},
   "source": [
    "Secara umum, pada dataset ini, tidak dicurigai terdapat data dengan nilai atribut yang tidak valid. Selanjutnya perlu dilakukan pengecekan apakah terdapat data yang memiliki datatype yang salah dengan memanfaatkan fungsi df.info()"
   ]
  },
  {
   "cell_type": "code",
   "execution_count": 210,
   "metadata": {},
   "outputs": [
    {
     "name": "stdout",
     "output_type": "stream",
     "text": [
      "<class 'pandas.core.frame.DataFrame'>\n",
      "RangeIndex: 258 entries, 0 to 257\n",
      "Data columns (total 6 columns):\n",
      "STG     258 non-null float64\n",
      "SCG     258 non-null float64\n",
      "STR     258 non-null float64\n",
      "LPR     258 non-null float64\n",
      "PEG     258 non-null float64\n",
      " UNS    258 non-null int64\n",
      "dtypes: float64(5), int64(1)\n",
      "memory usage: 12.2 KB\n"
     ]
    }
   ],
   "source": [
    "df.info()"
   ]
  },
  {
   "cell_type": "markdown",
   "metadata": {},
   "source": [
    "Berdasarkan informasi dari dataset diatas, masing-masing atribut sudah terdefinisi dengan tepat tipe datanya. Missing value juga tidak terdapat pada dataset ini (berdasarkan deskripsi awal pada UCI dataset)."
   ]
  },
  {
   "cell_type": "code",
   "execution_count": null,
   "metadata": {},
   "outputs": [],
   "source": []
  },
  {
   "cell_type": "code",
   "execution_count": 211,
   "metadata": {},
   "outputs": [
    {
     "data": {
      "text/plain": [
       "<matplotlib.axes._subplots.AxesSubplot at 0x1a2fc31be0>"
      ]
     },
     "execution_count": 211,
     "metadata": {},
     "output_type": "execute_result"
    },
    {
     "data": {
      "image/png": "[encoded data removed]",
      "text/plain": [
       "<Figure size 432x288 with 2 Axes>"
      ]
     },
     "metadata": {
      "needs_background": "light"
     },
     "output_type": "display_data"
    }
   ],
   "source": [
    "#correlation untuk data training\n",
    "import seaborn as sns\n",
    "cor = df.corr()\n",
    "sns.heatmap(cor,annot=True)"
   ]
  },
  {
   "cell_type": "markdown",
   "metadata": {},
   "source": [
    "Correlation menyatakan keterhubungan antara dua variabel. Jika dilihat dari tabel korelasi diatas, antar atribut memiliki korelasi yang kecil. Sedangkan untuk variabel PEG dan UNS memiliki korelasi yang kuat. Hal ini menunjukkan bahwa variabel PEG memiliki pengaruh yang besar terhadap kelas klasifikasi."
   ]
  },
  {
   "cell_type": "markdown",
   "metadata": {},
   "source": [
    "#### Analisis outlier\n",
    "Outliers adalah data yang menyimpang terlalu jauh dari data yang lainnya dalam suatu rangkaian data. Outlier sering membuat hasil klasifikasi menjadi bias. Untuk kasus dalam dataset ini, terdapat juga beberapa outlier pada  atribut STG. Namun, karena data ini merepresentasikan sebuah nilai dan mewakili subjek dari penelitian, maka outlier ini tetap digunakan walaupun nantinya kemungkinan nilai-nilai ini yang akan menyebabkan akurasi menurun karena adanya kesalahan klasifikasi. Untuk itu diharapkan algoritma klasifikasi yang digunakan dapat dengan handal menangani masalah outlier ini."
   ]
  },
  {
   "cell_type": "code",
   "execution_count": 212,
   "metadata": {},
   "outputs": [
    {
     "data": {
      "text/plain": [
       "<matplotlib.axes._subplots.AxesSubplot at 0x1a304ce390>"
      ]
     },
     "execution_count": 212,
     "metadata": {},
     "output_type": "execute_result"
    },
    {
     "data": {
      "image/png": "[encoded data removed]",
      "text/plain": [
       "<Figure size 432x288 with 1 Axes>"
      ]
     },
     "metadata": {
      "needs_background": "light"
     },
     "output_type": "display_data"
    }
   ],
   "source": [
    "sns.boxplot(x=df['STG'])"
   ]
  },
  {
   "cell_type": "code",
   "execution_count": 213,
   "metadata": {},
   "outputs": [
    {
     "data": {
      "text/plain": [
       "<matplotlib.axes._subplots.AxesSubplot at 0x1a303efc50>"
      ]
     },
     "execution_count": 213,
     "metadata": {},
     "output_type": "execute_result"
    },
    {
     "data": {
      "image/png": "[encoded data removed]",
      "text/plain": [
       "<Figure size 432x288 with 1 Axes>"
      ]
     },
     "metadata": {
      "needs_background": "light"
     },
     "output_type": "display_data"
    }
   ],
   "source": [
    "sns.boxplot(x=df['SCG'])"
   ]
  },
  {
   "cell_type": "code",
   "execution_count": 214,
   "metadata": {},
   "outputs": [
    {
     "data": {
      "text/plain": [
       "<matplotlib.axes._subplots.AxesSubplot at 0x1a305827f0>"
      ]
     },
     "execution_count": 214,
     "metadata": {},
     "output_type": "execute_result"
    },
    {
     "data": {
      "image/png": "[encoded data removed]",
      "text/plain": [
       "<Figure size 432x288 with 1 Axes>"
      ]
     },
     "metadata": {
      "needs_background": "light"
     },
     "output_type": "display_data"
    }
   ],
   "source": [
    "sns.boxplot(x=df['STR'])"
   ]
  },
  {
   "cell_type": "code",
   "execution_count": 215,
   "metadata": {},
   "outputs": [
    {
     "data": {
      "text/plain": [
       "<matplotlib.axes._subplots.AxesSubplot at 0x1a307cd208>"
      ]
     },
     "execution_count": 215,
     "metadata": {},
     "output_type": "execute_result"
    },
    {
     "data": {
      "image/png": "[encoded data removed]",
      "text/plain": [
       "<Figure size 432x288 with 1 Axes>"
      ]
     },
     "metadata": {
      "needs_background": "light"
     },
     "output_type": "display_data"
    }
   ],
   "source": [
    "sns.boxplot(x=df['LPR'])"
   ]
  },
  {
   "cell_type": "code",
   "execution_count": 216,
   "metadata": {},
   "outputs": [
    {
     "data": {
      "text/plain": [
       "<matplotlib.axes._subplots.AxesSubplot at 0x1a3087bef0>"
      ]
     },
     "execution_count": 216,
     "metadata": {},
     "output_type": "execute_result"
    },
    {
     "data": {
      "image/png": "[encoded data removed]",
      "text/plain": [
       "<Figure size 432x288 with 1 Axes>"
      ]
     },
     "metadata": {
      "needs_background": "light"
     },
     "output_type": "display_data"
    }
   ],
   "source": [
    "sns.boxplot(x=df['PEG'])"
   ]
  },
  {
   "cell_type": "markdown",
   "metadata": {},
   "source": [
    "Terakhir, sebelum memasuki proses training dan klasifikasi, data perlu dipastikan distribusinya. Untuk data training dan testing, karena data sudah dipisahkan sejak awal, maka tidak bisa dilakukan perubahan apapun. Sedangkan untuk pemisahan antara data training dan data validasi (holdout), perlu dipastikan bahwa proporsi data untuk masing-masing kelas sudah sama antara sebelum dilakukan pemisahan dengan setelah dilakukan pemisahan. Hal ini ditujukan untuk peningkatan performansi training, yang diharapkan juga dapat meningkatkan nilai akurasi data. Pada kasus ini, pada proses split data, dilakukan pengesetan parameter stratify = target "
   ]
  },
  {
   "cell_type": "markdown",
   "metadata": {},
   "source": [
    "### 2. Optimasi Parameter\n",
    "Pada pengerjaan tahap 1, saat metode klasifikasi masih menggunakan parameter default, akurasi yang didapatkan mencapai diatas 0.7 untuk setiap metode yang digunakan (SVM, Neural Network dan Naive Bayes). Kemudian, pada saat mencoba beberapa parameter diubah, akurasi meningkat cukup pesat hingga diatas 0.8, bahkan untuk neural network hingga diatas 0.9. Oleh karena itu, dapat diprediksi bahwa perubahan parameter classifier sangat berpengaruh secara signifikan terhadap peningkatan akurasi. Sehingga perlu dilakukan eksperiment untuk mendapatkan kombinasi parameter sehingga diperoleh akurasi yang optimal."
   ]
  },
  {
   "cell_type": "code",
   "execution_count": null,
   "metadata": {},
   "outputs": [],
   "source": []
  },
  {
   "cell_type": "markdown",
   "metadata": {},
   "source": [
    "#### Skenario :\n",
    "1. Untuk metode klasifikasi SVM, parameter yang akan diobservasi adalah parameter gamma dan nilai C. Untuk kernel,  dipilih kernel linear, sedangkan decision_function_set nya adalah 'one vs one' yang selalu digunakan untuk strategi multiclass.  \n",
    "    Gamma = {2,4,6,8,10}, C = {1,2,3,4,5}\n",
    "2. Untuk metode klasifikasi Neural Network, parameter yang akan diobervasi adalah parameter learning rate dan jumlah hidden layer. Sedangkan untuk parameter lain seperti fungsi aktivasi, telah ditentukan yaitu fungsi logistic.\n",
    "    learning rate = {0.02 0.05 0.08 0.1 0.2}, hidden layer = {[20 20], [40 40], [60 60], [80 80], [100 100]}\n",
    "3. Untuk metode Naive Bayes, yang akan diubah adalah parameter var_smoothing = {1, 1e-2, 1e-3, 1e-4, 1e-5}"
   ]
  },
  {
   "cell_type": "markdown",
   "metadata": {},
   "source": [
    "#### Hasil :"
   ]
  },
  {
   "cell_type": "markdown",
   "metadata": {},
   "source": [
    "Note : Hasil experiment sudah tertera pada print code diatas.\n",
    "Berdasarkan hasil experiment optimasi terhadap kombinasi parameter, dihasilkan model terbaik yaitu Neural Network dengan parameter hidden layer = [20,20] dan learning rate = 0.02. Sehingga diperoleh akurasi tertinggi yaitu 1.0 untuk data validasi.\n",
    "\n",
    "Model terbaik tersebut, selanjutnya digunakan untuk melakukan prediksi pada data testing. Hasil prediksi pada data testing didapatkan hasil sebagai berikut:\n"
   ]
  },
  {
   "cell_type": "code",
   "execution_count": 360,
   "metadata": {},
   "outputs": [
    {
     "name": "stdout",
     "output_type": "stream",
     "text": [
      "akurasi Testing=  0.9862068965517241\n",
      "Confusion Matrik =\n",
      "[[26  0  0  0]\n",
      " [ 0 46  0  0]\n",
      " [ 0  1 32  1]\n",
      " [ 0  0  0 39]]\n",
      "-----------------------------------\n",
      "              precision    recall  f1-score   support\n",
      "\n",
      "           1       1.00      1.00      1.00        26\n",
      "           2       0.98      1.00      0.99        46\n",
      "           3       1.00      0.94      0.97        34\n",
      "           4       0.97      1.00      0.99        39\n",
      "\n",
      "    accuracy                           0.99       145\n",
      "   macro avg       0.99      0.99      0.99       145\n",
      "weighted avg       0.99      0.99      0.99       145\n",
      "\n"
     ]
    }
   ],
   "source": [
    "print('akurasi Testing= ',accuracyFinal)\n",
    "print('Confusion Matrik =')\n",
    "print(cmNNHO)\n",
    "print('-----------------------------------')\n",
    "print(classification_report(y_test,predictNN))"
   ]
  },
  {
   "cell_type": "markdown",
   "metadata": {},
   "source": [
    "## Kesimpulan"
   ]
  },
  {
   "cell_type": "markdown",
   "metadata": {},
   "source": [
    "Pada tugas ini, diberikan dataset dari UCI untuk dilakukan proses klasifikasi dengan menerapkan cara pemilihan model klasifikasi terbaik dengan 2 teknik validasi yaitu Holdout dan Kfold. Data yang telah dipilih dan di proses menghasilkan model terbaik yaitu Neural Network yang dihasilkan dari validasi Holdout dengan akurasi pada test data sebesar 0.986. Hasil akurasi yang tinggi ini dapat dipengaruhi oleh beberapa faktor, seperti:\n",
    "1. Dataset tidak mengandung banyak noise, atau noise sudah diatasi\n",
    "2. Penerapan preprocessing yang tepat.\n",
    "3. Sebaran data pada data training merata\n",
    "4. Kombinasi parameter yang tepat pada metode klasifikasi\n",
    "\n",
    "Akurasi yang didapatkan disini sudah lebih tinggi dibandingkan dengan paper yang menjadi acuan yaitu dari  H. T. Kahraman, Sagiroglu, S., Colak, I., dengan judul Developing Intuitive Knowledge Classifier and Modeling of Users', \n",
    "Knowledge Based Systems, vol. 37, pp. 283-295, 2013, yang memiliki akurasi sebesar 0.975.  "
   ]
  }
 ],
 "metadata": {
  "kernelspec": {
   "display_name": "Python 3",
   "language": "python",
   "name": "python3"
  },
  "language_info": {
   "codemirror_mode": {
    "name": "ipython",
    "version": 3
   },
   "file_extension": ".py",
   "mimetype": "text/x-python",
   "name": "python",
   "nbconvert_exporter": "python",
   "pygments_lexer": "ipython3",
   "version": "3.7.3"
  }
 },
 "nbformat": 4,
 "nbformat_minor": 2
}
