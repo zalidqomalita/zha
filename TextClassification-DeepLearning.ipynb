{
 "cells": [
  {
   "cell_type": "markdown",
   "metadata": {},
   "source": [
    "                                                       \n",
    "                                                     \n",
    "## Multi-Class Text Classification\n",
    "\n",
    "Referensi: https://towardsdatascience.com/multi-class-text-classification-with-lstm-1590bee1bd17\n"
   ]
  },
  {
   "cell_type": "markdown",
   "metadata": {},
   "source": [
    "Dalam code program ini dilakukan proses klasifikasi terhadap text/dokumen. Kasus yang ditangani adalah mengenai Consumer Finance Complaint dimana diberikan narasi komplain dari customer, kemudian program akan mengklasifikasikan komplain tersebut sesuai topiknya. Metode yang digunakan disini adalah LSTM dengan menggunakan library keras."
   ]
  },
  {
   "cell_type": "code",
   "execution_count": 1,
   "metadata": {},
   "outputs": [],
   "source": [
    "# mengimport beberapa library dasar yang diperlukan\n",
    "import pandas as pd\n",
    "import numpy as np\n",
    "import matplotlib as plt\n",
    "import re #untuk regular expression"
   ]
  },
  {
   "cell_type": "code",
   "execution_count": 2,
   "metadata": {},
   "outputs": [],
   "source": [
    "# membaca data csv\n",
    "df = pd.read_csv('complaints.csv')"
   ]
  },
  {
   "cell_type": "code",
   "execution_count": 3,
   "metadata": {},
   "outputs": [],
   "source": [
    "from io import StringIO\n",
    "'''Hanya kolom Produk dan Customer Complaint Narrative yang diperlukan untuk proses pembelajaran. \n",
    "Oleh karena itu, hanya diambil dua kolom ini, untuk diproses pada proses selanjutnya.\n",
    "'''\n",
    "\n",
    "col = ['Product', 'Consumer complaint narrative']\n",
    "df = df[col]\n",
    "# mendeteksi non-missing value\n",
    "df = df[pd.notnull(df['Consumer complaint narrative'])]\n",
    "df.columns = ['Product', 'Consumer complaint narrative']"
   ]
  },
  {
   "cell_type": "code",
   "execution_count": 4,
   "metadata": {},
   "outputs": [
    {
     "data": {
      "text/plain": [
       "Credit reporting, credit repair services, or other personal consumer reports    143103\n",
       "Debt collection                                                                 106291\n",
       "Mortgage                                                                         61304\n",
       "Credit card or prepaid card                                                      31761\n",
       "Credit reporting                                                                 31588\n",
       "Student loan                                                                     24991\n",
       "Checking or savings account                                                      18956\n",
       "Credit card                                                                      18838\n",
       "Bank account or service                                                          14885\n",
       "Consumer Loan                                                                     9473\n",
       "Vehicle loan or lease                                                             8132\n",
       "Money transfer, virtual currency, or money service                                7796\n",
       "Payday loan, title loan, or personal loan                                         6349\n",
       "Payday loan                                                                       1746\n",
       "Money transfers                                                                   1497\n",
       "Prepaid card                                                                      1450\n",
       "Other financial service                                                            292\n",
       "Virtual currency                                                                    16\n",
       "Name: Product, dtype: int64"
      ]
     },
     "execution_count": 4,
     "metadata": {},
     "output_type": "execute_result"
    }
   ],
   "source": [
    "# menghitung jumlah data untuk setiap kelas (topik)\n",
    "df.Product.value_counts()"
   ]
  },
  {
   "cell_type": "code",
   "execution_count": 5,
   "metadata": {},
   "outputs": [
    {
     "name": "stdout",
     "output_type": "stream",
     "text": [
      "<class 'pandas.core.frame.DataFrame'>\n",
      "Int64Index: 488468 entries, 0 to 1491589\n",
      "Data columns (total 2 columns):\n",
      "Product                         488468 non-null object\n",
      "Consumer complaint narrative    488468 non-null object\n",
      "dtypes: object(2)\n",
      "memory usage: 11.2+ MB\n"
     ]
    }
   ],
   "source": [
    "#mencetak informasi mengenai tabel data\n",
    "df.info()"
   ]
  },
  {
   "cell_type": "code",
   "execution_count": 6,
   "metadata": {},
   "outputs": [],
   "source": [
    "'''\n",
    "Untuk menyederhanakan masalah, sebelumnya dilakukan hal-hal sebagai berikut:\n",
    "- Komplain tentang Credit Reporting digabungkan dengan komplain Credit reporting, credit repair services, or other personal consumer reports\n",
    "- Komplain tentang Credit Card digabungkan dengan komplain Credit card or prepaid card\n",
    "- Komplain tentang Payday Loan digabungkan dengan komplain Payday loan, title loan, or personal loan\n",
    "- Komplain tentang Virtual currency digabungkan dengan komplain Money transfer, virtual currency, or money service\n",
    "- Sedangkan untuk Other financial service dihapuskan karena tidak begitu penting dan jumlahnya sangat sedikit.\n",
    "'''\n",
    "\n",
    "df.loc[df['Product'] == 'Credit reporting', 'Product'] = 'Credit reporting, credit repair services, or other personal consumer reports'\n",
    "df.loc[df['Product'] == 'Credit card', 'Product'] = 'Credit card or prepaid card'\n",
    "df.loc[df['Product'] == 'Payday loan', 'Product'] = 'Payday loan, title loan, or personal loan'\n",
    "df.loc[df['Product'] == 'Virtual currency', 'Product'] = 'Money transfer, virtual currency, or money service'\n",
    "df = df[df.Product != 'Other financial service']"
   ]
  },
  {
   "cell_type": "code",
   "execution_count": 7,
   "metadata": {},
   "outputs": [
    {
     "name": "stderr",
     "output_type": "stream",
     "text": [
      "//anaconda3/lib/python3.7/site-packages/IPython/utils/traitlets.py:5: UserWarning:\n",
      "\n",
      "IPython.utils.traitlets has moved to a top-level traitlets package.\n",
      "\n"
     ]
    },
    {
     "data": {
      "text/html": [
       "        <script type=\"text/javascript\">\n",
       "        window.PlotlyConfig = {MathJaxConfig: 'local'};\n",
       "        if (window.MathJax) {MathJax.Hub.Config({SVG: {font: \"STIX-Web\"}});}\n",
       "        if (typeof require !== 'undefined') {\n",
       "        require.undef(\"plotly\");\n",
       "        requirejs.config({\n",
       "            paths: {\n",
       "                'plotly': ['https://cdn.plot.ly/plotly-latest.min']\n",
       "            }\n",
       "        });\n",
       "        require(['plotly'], function(Plotly) {\n",
       "            window._Plotly = Plotly;\n",
       "        });\n",
       "        }\n",
       "        </script>\n",
       "        "
      ]
     },
     "metadata": {},
     "output_type": "display_data"
    },
    {
     "data": {
      "application/vnd.plotly.v1+json": {
       "config": {
        "linkText": "Export to plot.ly",
        "plotlyServerURL": "https://plot.ly",
        "showLink": true
       },
       "data": [
        {
         "marker": {
          "color": "rgba(255, 153, 51, 0.6)",
          "line": {
           "color": "rgba(255, 153, 51, 1.0)",
           "width": 1
          }
         },
         "name": "Product",
         "orientation": "v",
         "text": "",
         "type": "bar",
         "x": [
          "Credit reporting, credit repair services, or other personal consumer reports",
          "Debt collection",
          "Mortgage",
          "Credit card or prepaid card",
          "Student loan",
          "Checking or savings account",
          "Bank account or service",
          "Consumer Loan",
          "Vehicle loan or lease",
          "Payday loan, title loan, or personal loan",
          "Money transfer, virtual currency, or money service",
          "Money transfers",
          "Prepaid card"
         ],
         "y": [
          174691,
          106291,
          61304,
          50599,
          24991,
          18956,
          14885,
          9473,
          8132,
          8095,
          7812,
          1497,
          1450
         ]
        }
       ],
       "layout": {
        "legend": {
         "bgcolor": "#F5F6F9",
         "font": {
          "color": "#4D5663"
         }
        },
        "paper_bgcolor": "#F5F6F9",
        "plot_bgcolor": "#F5F6F9",
        "template": {
         "data": {
          "bar": [
           {
            "error_x": {
             "color": "#2a3f5f"
            },
            "error_y": {
             "color": "#2a3f5f"
            },
            "marker": {
             "line": {
              "color": "#E5ECF6",
              "width": 0.5
             }
            },
            "type": "bar"
           }
          ],
          "barpolar": [
           {
            "marker": {
             "line": {
              "color": "#E5ECF6",
              "width": 0.5
             }
            },
            "type": "barpolar"
           }
          ],
          "carpet": [
           {
            "aaxis": {
             "endlinecolor": "#2a3f5f",
             "gridcolor": "white",
             "linecolor": "white",
             "minorgridcolor": "white",
             "startlinecolor": "#2a3f5f"
            },
            "baxis": {
             "endlinecolor": "#2a3f5f",
             "gridcolor": "white",
             "linecolor": "white",
             "minorgridcolor": "white",
             "startlinecolor": "#2a3f5f"
            },
            "type": "carpet"
           }
          ],
          "choropleth": [
           {
            "colorbar": {
             "outlinewidth": 0,
             "ticks": ""
            },
            "type": "choropleth"
           }
          ],
          "contour": [
           {
            "colorbar": {
             "outlinewidth": 0,
             "ticks": ""
            },
            "colorscale": [
             [
              0,
              "#0d0887"
             ],
             [
              0.1111111111111111,
              "#46039f"
             ],
             [
              0.2222222222222222,
              "#7201a8"
             ],
             [
              0.3333333333333333,
              "#9c179e"
             ],
             [
              0.4444444444444444,
              "#bd3786"
             ],
             [
              0.5555555555555556,
              "#d8576b"
             ],
             [
              0.6666666666666666,
              "#ed7953"
             ],
             [
              0.7777777777777778,
              "#fb9f3a"
             ],
             [
              0.8888888888888888,
              "#fdca26"
             ],
             [
              1,
              "#f0f921"
             ]
            ],
            "type": "contour"
           }
          ],
          "contourcarpet": [
           {
            "colorbar": {
             "outlinewidth": 0,
             "ticks": ""
            },
            "type": "contourcarpet"
           }
          ],
          "heatmap": [
           {
            "colorbar": {
             "outlinewidth": 0,
             "ticks": ""
            },
            "colorscale": [
             [
              0,
              "#0d0887"
             ],
             [
              0.1111111111111111,
              "#46039f"
             ],
             [
              0.2222222222222222,
              "#7201a8"
             ],
             [
              0.3333333333333333,
              "#9c179e"
             ],
             [
              0.4444444444444444,
              "#bd3786"
             ],
             [
              0.5555555555555556,
              "#d8576b"
             ],
             [
              0.6666666666666666,
              "#ed7953"
             ],
             [
              0.7777777777777778,
              "#fb9f3a"
             ],
             [
              0.8888888888888888,
              "#fdca26"
             ],
             [
              1,
              "#f0f921"
             ]
            ],
            "type": "heatmap"
           }
          ],
          "heatmapgl": [
           {
            "colorbar": {
             "outlinewidth": 0,
             "ticks": ""
            },
            "colorscale": [
             [
              0,
              "#0d0887"
             ],
             [
              0.1111111111111111,
              "#46039f"
             ],
             [
              0.2222222222222222,
              "#7201a8"
             ],
             [
              0.3333333333333333,
              "#9c179e"
             ],
             [
              0.4444444444444444,
              "#bd3786"
             ],
             [
              0.5555555555555556,
              "#d8576b"
             ],
             [
              0.6666666666666666,
              "#ed7953"
             ],
             [
              0.7777777777777778,
              "#fb9f3a"
             ],
             [
              0.8888888888888888,
              "#fdca26"
             ],
             [
              1,
              "#f0f921"
             ]
            ],
            "type": "heatmapgl"
           }
          ],
          "histogram": [
           {
            "marker": {
             "colorbar": {
              "outlinewidth": 0,
              "ticks": ""
             }
            },
            "type": "histogram"
           }
          ],
          "histogram2d": [
           {
            "colorbar": {
             "outlinewidth": 0,
             "ticks": ""
            },
            "colorscale": [
             [
              0,
              "#0d0887"
             ],
             [
              0.1111111111111111,
              "#46039f"
             ],
             [
              0.2222222222222222,
              "#7201a8"
             ],
             [
              0.3333333333333333,
              "#9c179e"
             ],
             [
              0.4444444444444444,
              "#bd3786"
             ],
             [
              0.5555555555555556,
              "#d8576b"
             ],
             [
              0.6666666666666666,
              "#ed7953"
             ],
             [
              0.7777777777777778,
              "#fb9f3a"
             ],
             [
              0.8888888888888888,
              "#fdca26"
             ],
             [
              1,
              "#f0f921"
             ]
            ],
            "type": "histogram2d"
           }
          ],
          "histogram2dcontour": [
           {
            "colorbar": {
             "outlinewidth": 0,
             "ticks": ""
            },
            "colorscale": [
             [
              0,
              "#0d0887"
             ],
             [
              0.1111111111111111,
              "#46039f"
             ],
             [
              0.2222222222222222,
              "#7201a8"
             ],
             [
              0.3333333333333333,
              "#9c179e"
             ],
             [
              0.4444444444444444,
              "#bd3786"
             ],
             [
              0.5555555555555556,
              "#d8576b"
             ],
             [
              0.6666666666666666,
              "#ed7953"
             ],
             [
              0.7777777777777778,
              "#fb9f3a"
             ],
             [
              0.8888888888888888,
              "#fdca26"
             ],
             [
              1,
              "#f0f921"
             ]
            ],
            "type": "histogram2dcontour"
           }
          ],
          "mesh3d": [
           {
            "colorbar": {
             "outlinewidth": 0,
             "ticks": ""
            },
            "type": "mesh3d"
           }
          ],
          "parcoords": [
           {
            "line": {
             "colorbar": {
              "outlinewidth": 0,
              "ticks": ""
             }
            },
            "type": "parcoords"
           }
          ],
          "pie": [
           {
            "automargin": true,
            "type": "pie"
           }
          ],
          "scatter": [
           {
            "marker": {
             "colorbar": {
              "outlinewidth": 0,
              "ticks": ""
             }
            },
            "type": "scatter"
           }
          ],
          "scatter3d": [
           {
            "line": {
             "colorbar": {
              "outlinewidth": 0,
              "ticks": ""
             }
            },
            "marker": {
             "colorbar": {
              "outlinewidth": 0,
              "ticks": ""
             }
            },
            "type": "scatter3d"
           }
          ],
          "scattercarpet": [
           {
            "marker": {
             "colorbar": {
              "outlinewidth": 0,
              "ticks": ""
             }
            },
            "type": "scattercarpet"
           }
          ],
          "scattergeo": [
           {
            "marker": {
             "colorbar": {
              "outlinewidth": 0,
              "ticks": ""
             }
            },
            "type": "scattergeo"
           }
          ],
          "scattergl": [
           {
            "marker": {
             "colorbar": {
              "outlinewidth": 0,
              "ticks": ""
             }
            },
            "type": "scattergl"
           }
          ],
          "scattermapbox": [
           {
            "marker": {
             "colorbar": {
              "outlinewidth": 0,
              "ticks": ""
             }
            },
            "type": "scattermapbox"
           }
          ],
          "scatterpolar": [
           {
            "marker": {
             "colorbar": {
              "outlinewidth": 0,
              "ticks": ""
             }
            },
            "type": "scatterpolar"
           }
          ],
          "scatterpolargl": [
           {
            "marker": {
             "colorbar": {
              "outlinewidth": 0,
              "ticks": ""
             }
            },
            "type": "scatterpolargl"
           }
          ],
          "scatterternary": [
           {
            "marker": {
             "colorbar": {
              "outlinewidth": 0,
              "ticks": ""
             }
            },
            "type": "scatterternary"
           }
          ],
          "surface": [
           {
            "colorbar": {
             "outlinewidth": 0,
             "ticks": ""
            },
            "colorscale": [
             [
              0,
              "#0d0887"
             ],
             [
              0.1111111111111111,
              "#46039f"
             ],
             [
              0.2222222222222222,
              "#7201a8"
             ],
             [
              0.3333333333333333,
              "#9c179e"
             ],
             [
              0.4444444444444444,
              "#bd3786"
             ],
             [
              0.5555555555555556,
              "#d8576b"
             ],
             [
              0.6666666666666666,
              "#ed7953"
             ],
             [
              0.7777777777777778,
              "#fb9f3a"
             ],
             [
              0.8888888888888888,
              "#fdca26"
             ],
             [
              1,
              "#f0f921"
             ]
            ],
            "type": "surface"
           }
          ],
          "table": [
           {
            "cells": {
             "fill": {
              "color": "#EBF0F8"
             },
             "line": {
              "color": "white"
             }
            },
            "header": {
             "fill": {
              "color": "#C8D4E3"
             },
             "line": {
              "color": "white"
             }
            },
            "type": "table"
           }
          ]
         },
         "layout": {
          "annotationdefaults": {
           "arrowcolor": "#2a3f5f",
           "arrowhead": 0,
           "arrowwidth": 1
          },
          "coloraxis": {
           "colorbar": {
            "outlinewidth": 0,
            "ticks": ""
           }
          },
          "colorscale": {
           "diverging": [
            [
             0,
             "#8e0152"
            ],
            [
             0.1,
             "#c51b7d"
            ],
            [
             0.2,
             "#de77ae"
            ],
            [
             0.3,
             "#f1b6da"
            ],
            [
             0.4,
             "#fde0ef"
            ],
            [
             0.5,
             "#f7f7f7"
            ],
            [
             0.6,
             "#e6f5d0"
            ],
            [
             0.7,
             "#b8e186"
            ],
            [
             0.8,
             "#7fbc41"
            ],
            [
             0.9,
             "#4d9221"
            ],
            [
             1,
             "#276419"
            ]
           ],
           "sequential": [
            [
             0,
             "#0d0887"
            ],
            [
             0.1111111111111111,
             "#46039f"
            ],
            [
             0.2222222222222222,
             "#7201a8"
            ],
            [
             0.3333333333333333,
             "#9c179e"
            ],
            [
             0.4444444444444444,
             "#bd3786"
            ],
            [
             0.5555555555555556,
             "#d8576b"
            ],
            [
             0.6666666666666666,
             "#ed7953"
            ],
            [
             0.7777777777777778,
             "#fb9f3a"
            ],
            [
             0.8888888888888888,
             "#fdca26"
            ],
            [
             1,
             "#f0f921"
            ]
           ],
           "sequentialminus": [
            [
             0,
             "#0d0887"
            ],
            [
             0.1111111111111111,
             "#46039f"
            ],
            [
             0.2222222222222222,
             "#7201a8"
            ],
            [
             0.3333333333333333,
             "#9c179e"
            ],
            [
             0.4444444444444444,
             "#bd3786"
            ],
            [
             0.5555555555555556,
             "#d8576b"
            ],
            [
             0.6666666666666666,
             "#ed7953"
            ],
            [
             0.7777777777777778,
             "#fb9f3a"
            ],
            [
             0.8888888888888888,
             "#fdca26"
            ],
            [
             1,
             "#f0f921"
            ]
           ]
          },
          "colorway": [
           "#636efa",
           "#EF553B",
           "#00cc96",
           "#ab63fa",
           "#FFA15A",
           "#19d3f3",
           "#FF6692",
           "#B6E880",
           "#FF97FF",
           "#FECB52"
          ],
          "font": {
           "color": "#2a3f5f"
          },
          "geo": {
           "bgcolor": "white",
           "lakecolor": "white",
           "landcolor": "#E5ECF6",
           "showlakes": true,
           "showland": true,
           "subunitcolor": "white"
          },
          "hoverlabel": {
           "align": "left"
          },
          "hovermode": "closest",
          "mapbox": {
           "style": "light"
          },
          "paper_bgcolor": "white",
          "plot_bgcolor": "#E5ECF6",
          "polar": {
           "angularaxis": {
            "gridcolor": "white",
            "linecolor": "white",
            "ticks": ""
           },
           "bgcolor": "#E5ECF6",
           "radialaxis": {
            "gridcolor": "white",
            "linecolor": "white",
            "ticks": ""
           }
          },
          "scene": {
           "xaxis": {
            "backgroundcolor": "#E5ECF6",
            "gridcolor": "white",
            "gridwidth": 2,
            "linecolor": "white",
            "showbackground": true,
            "ticks": "",
            "zerolinecolor": "white"
           },
           "yaxis": {
            "backgroundcolor": "#E5ECF6",
            "gridcolor": "white",
            "gridwidth": 2,
            "linecolor": "white",
            "showbackground": true,
            "ticks": "",
            "zerolinecolor": "white"
           },
           "zaxis": {
            "backgroundcolor": "#E5ECF6",
            "gridcolor": "white",
            "gridwidth": 2,
            "linecolor": "white",
            "showbackground": true,
            "ticks": "",
            "zerolinecolor": "white"
           }
          },
          "shapedefaults": {
           "line": {
            "color": "#2a3f5f"
           }
          },
          "ternary": {
           "aaxis": {
            "gridcolor": "white",
            "linecolor": "white",
            "ticks": ""
           },
           "baxis": {
            "gridcolor": "white",
            "linecolor": "white",
            "ticks": ""
           },
           "bgcolor": "#E5ECF6",
           "caxis": {
            "gridcolor": "white",
            "linecolor": "white",
            "ticks": ""
           }
          },
          "title": {
           "x": 0.05
          },
          "xaxis": {
           "automargin": true,
           "gridcolor": "white",
           "linecolor": "white",
           "ticks": "",
           "title": {
            "standoff": 15
           },
           "zerolinecolor": "white",
           "zerolinewidth": 2
          },
          "yaxis": {
           "automargin": true,
           "gridcolor": "white",
           "linecolor": "white",
           "ticks": "",
           "title": {
            "standoff": 15
           },
           "zerolinecolor": "white",
           "zerolinewidth": 2
          }
         }
        },
        "title": {
         "font": {
          "color": "#4D5663"
         },
         "text": "Number complaints in each product"
        },
        "xaxis": {
         "gridcolor": "#E1E5ED",
         "showgrid": true,
         "tickfont": {
          "color": "#4D5663"
         },
         "title": {
          "font": {
           "color": "#4D5663"
          },
          "text": ""
         },
         "zerolinecolor": "#E1E5ED"
        },
        "yaxis": {
         "gridcolor": "#E1E5ED",
         "showgrid": true,
         "tickfont": {
          "color": "#4D5663"
         },
         "title": {
          "font": {
           "color": "#4D5663"
          },
          "text": "Number of Complaints"
         },
         "zerolinecolor": "#E1E5ED"
        }
       }
      },
      "text/html": [
       "<div>\n",
       "        \n",
       "        \n",
       "            <div id=\"31934a30-427e-49f4-a8cf-3bab9b4c2725\" class=\"plotly-graph-div\" style=\"height:525px; width:100%;\"></div>\n",
       "            <script type=\"text/javascript\">\n",
       "                require([\"plotly\"], function(Plotly) {\n",
       "                    window.PLOTLYENV=window.PLOTLYENV || {};\n",
       "                    window.PLOTLYENV.BASE_URL='https://plot.ly';\n",
       "                    \n",
       "                if (document.getElementById(\"31934a30-427e-49f4-a8cf-3bab9b4c2725\")) {\n",
       "                    Plotly.newPlot(\n",
       "                        '31934a30-427e-49f4-a8cf-3bab9b4c2725',\n",
       "                        [{\"marker\": {\"color\": \"rgba(255, 153, 51, 0.6)\", \"line\": {\"color\": \"rgba(255, 153, 51, 1.0)\", \"width\": 1}}, \"name\": \"Product\", \"orientation\": \"v\", \"text\": \"\", \"type\": \"bar\", \"x\": [\"Credit reporting, credit repair services, or other personal consumer reports\", \"Debt collection\", \"Mortgage\", \"Credit card or prepaid card\", \"Student loan\", \"Checking or savings account\", \"Bank account or service\", \"Consumer Loan\", \"Vehicle loan or lease\", \"Payday loan, title loan, or personal loan\", \"Money transfer, virtual currency, or money service\", \"Money transfers\", \"Prepaid card\"], \"y\": [174691, 106291, 61304, 50599, 24991, 18956, 14885, 9473, 8132, 8095, 7812, 1497, 1450]}],\n",
       "                        {\"legend\": {\"bgcolor\": \"#F5F6F9\", \"font\": {\"color\": \"#4D5663\"}}, \"paper_bgcolor\": \"#F5F6F9\", \"plot_bgcolor\": \"#F5F6F9\", \"template\": {\"data\": {\"bar\": [{\"error_x\": {\"color\": \"#2a3f5f\"}, \"error_y\": {\"color\": \"#2a3f5f\"}, \"marker\": {\"line\": {\"color\": \"#E5ECF6\", \"width\": 0.5}}, \"type\": \"bar\"}], \"barpolar\": [{\"marker\": {\"line\": {\"color\": \"#E5ECF6\", \"width\": 0.5}}, \"type\": \"barpolar\"}], \"carpet\": [{\"aaxis\": {\"endlinecolor\": \"#2a3f5f\", \"gridcolor\": \"white\", \"linecolor\": \"white\", \"minorgridcolor\": \"white\", \"startlinecolor\": \"#2a3f5f\"}, \"baxis\": {\"endlinecolor\": \"#2a3f5f\", \"gridcolor\": \"white\", \"linecolor\": \"white\", \"minorgridcolor\": \"white\", \"startlinecolor\": \"#2a3f5f\"}, \"type\": \"carpet\"}], \"choropleth\": [{\"colorbar\": {\"outlinewidth\": 0, \"ticks\": \"\"}, \"type\": \"choropleth\"}], \"contour\": [{\"colorbar\": {\"outlinewidth\": 0, \"ticks\": \"\"}, \"colorscale\": [[0.0, \"#0d0887\"], [0.1111111111111111, \"#46039f\"], [0.2222222222222222, \"#7201a8\"], [0.3333333333333333, \"#9c179e\"], [0.4444444444444444, \"#bd3786\"], [0.5555555555555556, \"#d8576b\"], [0.6666666666666666, \"#ed7953\"], [0.7777777777777778, \"#fb9f3a\"], [0.8888888888888888, \"#fdca26\"], [1.0, \"#f0f921\"]], \"type\": \"contour\"}], \"contourcarpet\": [{\"colorbar\": {\"outlinewidth\": 0, \"ticks\": \"\"}, \"type\": \"contourcarpet\"}], \"heatmap\": [{\"colorbar\": {\"outlinewidth\": 0, \"ticks\": \"\"}, \"colorscale\": [[0.0, \"#0d0887\"], [0.1111111111111111, \"#46039f\"], [0.2222222222222222, \"#7201a8\"], [0.3333333333333333, \"#9c179e\"], [0.4444444444444444, \"#bd3786\"], [0.5555555555555556, \"#d8576b\"], [0.6666666666666666, \"#ed7953\"], [0.7777777777777778, \"#fb9f3a\"], [0.8888888888888888, \"#fdca26\"], [1.0, \"#f0f921\"]], \"type\": \"heatmap\"}], \"heatmapgl\": [{\"colorbar\": {\"outlinewidth\": 0, \"ticks\": \"\"}, \"colorscale\": [[0.0, \"#0d0887\"], [0.1111111111111111, \"#46039f\"], [0.2222222222222222, \"#7201a8\"], [0.3333333333333333, \"#9c179e\"], [0.4444444444444444, \"#bd3786\"], [0.5555555555555556, \"#d8576b\"], [0.6666666666666666, \"#ed7953\"], [0.7777777777777778, \"#fb9f3a\"], [0.8888888888888888, \"#fdca26\"], [1.0, \"#f0f921\"]], \"type\": \"heatmapgl\"}], \"histogram\": [{\"marker\": {\"colorbar\": {\"outlinewidth\": 0, \"ticks\": \"\"}}, \"type\": \"histogram\"}], \"histogram2d\": [{\"colorbar\": {\"outlinewidth\": 0, \"ticks\": \"\"}, \"colorscale\": [[0.0, \"#0d0887\"], [0.1111111111111111, \"#46039f\"], [0.2222222222222222, \"#7201a8\"], [0.3333333333333333, \"#9c179e\"], [0.4444444444444444, \"#bd3786\"], [0.5555555555555556, \"#d8576b\"], [0.6666666666666666, \"#ed7953\"], [0.7777777777777778, \"#fb9f3a\"], [0.8888888888888888, \"#fdca26\"], [1.0, \"#f0f921\"]], \"type\": \"histogram2d\"}], \"histogram2dcontour\": [{\"colorbar\": {\"outlinewidth\": 0, \"ticks\": \"\"}, \"colorscale\": [[0.0, \"#0d0887\"], [0.1111111111111111, \"#46039f\"], [0.2222222222222222, \"#7201a8\"], [0.3333333333333333, \"#9c179e\"], [0.4444444444444444, \"#bd3786\"], [0.5555555555555556, \"#d8576b\"], [0.6666666666666666, \"#ed7953\"], [0.7777777777777778, \"#fb9f3a\"], [0.8888888888888888, \"#fdca26\"], [1.0, \"#f0f921\"]], \"type\": \"histogram2dcontour\"}], \"mesh3d\": [{\"colorbar\": {\"outlinewidth\": 0, \"ticks\": \"\"}, \"type\": \"mesh3d\"}], \"parcoords\": [{\"line\": {\"colorbar\": {\"outlinewidth\": 0, \"ticks\": \"\"}}, \"type\": \"parcoords\"}], \"pie\": [{\"automargin\": true, \"type\": \"pie\"}], \"scatter\": [{\"marker\": {\"colorbar\": {\"outlinewidth\": 0, \"ticks\": \"\"}}, \"type\": \"scatter\"}], \"scatter3d\": [{\"line\": {\"colorbar\": {\"outlinewidth\": 0, \"ticks\": \"\"}}, \"marker\": {\"colorbar\": {\"outlinewidth\": 0, \"ticks\": \"\"}}, \"type\": \"scatter3d\"}], \"scattercarpet\": [{\"marker\": {\"colorbar\": {\"outlinewidth\": 0, \"ticks\": \"\"}}, \"type\": \"scattercarpet\"}], \"scattergeo\": [{\"marker\": {\"colorbar\": {\"outlinewidth\": 0, \"ticks\": \"\"}}, \"type\": \"scattergeo\"}], \"scattergl\": [{\"marker\": {\"colorbar\": {\"outlinewidth\": 0, \"ticks\": \"\"}}, \"type\": \"scattergl\"}], \"scattermapbox\": [{\"marker\": {\"colorbar\": {\"outlinewidth\": 0, \"ticks\": \"\"}}, \"type\": \"scattermapbox\"}], \"scatterpolar\": [{\"marker\": {\"colorbar\": {\"outlinewidth\": 0, \"ticks\": \"\"}}, \"type\": \"scatterpolar\"}], \"scatterpolargl\": [{\"marker\": {\"colorbar\": {\"outlinewidth\": 0, \"ticks\": \"\"}}, \"type\": \"scatterpolargl\"}], \"scatterternary\": [{\"marker\": {\"colorbar\": {\"outlinewidth\": 0, \"ticks\": \"\"}}, \"type\": \"scatterternary\"}], \"surface\": [{\"colorbar\": {\"outlinewidth\": 0, \"ticks\": \"\"}, \"colorscale\": [[0.0, \"#0d0887\"], [0.1111111111111111, \"#46039f\"], [0.2222222222222222, \"#7201a8\"], [0.3333333333333333, \"#9c179e\"], [0.4444444444444444, \"#bd3786\"], [0.5555555555555556, \"#d8576b\"], [0.6666666666666666, \"#ed7953\"], [0.7777777777777778, \"#fb9f3a\"], [0.8888888888888888, \"#fdca26\"], [1.0, \"#f0f921\"]], \"type\": \"surface\"}], \"table\": [{\"cells\": {\"fill\": {\"color\": \"#EBF0F8\"}, \"line\": {\"color\": \"white\"}}, \"header\": {\"fill\": {\"color\": \"#C8D4E3\"}, \"line\": {\"color\": \"white\"}}, \"type\": \"table\"}]}, \"layout\": {\"annotationdefaults\": {\"arrowcolor\": \"#2a3f5f\", \"arrowhead\": 0, \"arrowwidth\": 1}, \"coloraxis\": {\"colorbar\": {\"outlinewidth\": 0, \"ticks\": \"\"}}, \"colorscale\": {\"diverging\": [[0, \"#8e0152\"], [0.1, \"#c51b7d\"], [0.2, \"#de77ae\"], [0.3, \"#f1b6da\"], [0.4, \"#fde0ef\"], [0.5, \"#f7f7f7\"], [0.6, \"#e6f5d0\"], [0.7, \"#b8e186\"], [0.8, \"#7fbc41\"], [0.9, \"#4d9221\"], [1, \"#276419\"]], \"sequential\": [[0.0, \"#0d0887\"], [0.1111111111111111, \"#46039f\"], [0.2222222222222222, \"#7201a8\"], [0.3333333333333333, \"#9c179e\"], [0.4444444444444444, \"#bd3786\"], [0.5555555555555556, \"#d8576b\"], [0.6666666666666666, \"#ed7953\"], [0.7777777777777778, \"#fb9f3a\"], [0.8888888888888888, \"#fdca26\"], [1.0, \"#f0f921\"]], \"sequentialminus\": [[0.0, \"#0d0887\"], [0.1111111111111111, \"#46039f\"], [0.2222222222222222, \"#7201a8\"], [0.3333333333333333, \"#9c179e\"], [0.4444444444444444, \"#bd3786\"], [0.5555555555555556, \"#d8576b\"], [0.6666666666666666, \"#ed7953\"], [0.7777777777777778, \"#fb9f3a\"], [0.8888888888888888, \"#fdca26\"], [1.0, \"#f0f921\"]]}, \"colorway\": [\"#636efa\", \"#EF553B\", \"#00cc96\", \"#ab63fa\", \"#FFA15A\", \"#19d3f3\", \"#FF6692\", \"#B6E880\", \"#FF97FF\", \"#FECB52\"], \"font\": {\"color\": \"#2a3f5f\"}, \"geo\": {\"bgcolor\": \"white\", \"lakecolor\": \"white\", \"landcolor\": \"#E5ECF6\", \"showlakes\": true, \"showland\": true, \"subunitcolor\": \"white\"}, \"hoverlabel\": {\"align\": \"left\"}, \"hovermode\": \"closest\", \"mapbox\": {\"style\": \"light\"}, \"paper_bgcolor\": \"white\", \"plot_bgcolor\": \"#E5ECF6\", \"polar\": {\"angularaxis\": {\"gridcolor\": \"white\", \"linecolor\": \"white\", \"ticks\": \"\"}, \"bgcolor\": \"#E5ECF6\", \"radialaxis\": {\"gridcolor\": \"white\", \"linecolor\": \"white\", \"ticks\": \"\"}}, \"scene\": {\"xaxis\": {\"backgroundcolor\": \"#E5ECF6\", \"gridcolor\": \"white\", \"gridwidth\": 2, \"linecolor\": \"white\", \"showbackground\": true, \"ticks\": \"\", \"zerolinecolor\": \"white\"}, \"yaxis\": {\"backgroundcolor\": \"#E5ECF6\", \"gridcolor\": \"white\", \"gridwidth\": 2, \"linecolor\": \"white\", \"showbackground\": true, \"ticks\": \"\", \"zerolinecolor\": \"white\"}, \"zaxis\": {\"backgroundcolor\": \"#E5ECF6\", \"gridcolor\": \"white\", \"gridwidth\": 2, \"linecolor\": \"white\", \"showbackground\": true, \"ticks\": \"\", \"zerolinecolor\": \"white\"}}, \"shapedefaults\": {\"line\": {\"color\": \"#2a3f5f\"}}, \"ternary\": {\"aaxis\": {\"gridcolor\": \"white\", \"linecolor\": \"white\", \"ticks\": \"\"}, \"baxis\": {\"gridcolor\": \"white\", \"linecolor\": \"white\", \"ticks\": \"\"}, \"bgcolor\": \"#E5ECF6\", \"caxis\": {\"gridcolor\": \"white\", \"linecolor\": \"white\", \"ticks\": \"\"}}, \"title\": {\"x\": 0.05}, \"xaxis\": {\"automargin\": true, \"gridcolor\": \"white\", \"linecolor\": \"white\", \"ticks\": \"\", \"title\": {\"standoff\": 15}, \"zerolinecolor\": \"white\", \"zerolinewidth\": 2}, \"yaxis\": {\"automargin\": true, \"gridcolor\": \"white\", \"linecolor\": \"white\", \"ticks\": \"\", \"title\": {\"standoff\": 15}, \"zerolinecolor\": \"white\", \"zerolinewidth\": 2}}}, \"title\": {\"font\": {\"color\": \"#4D5663\"}, \"text\": \"Number complaints in each product\"}, \"xaxis\": {\"gridcolor\": \"#E1E5ED\", \"showgrid\": true, \"tickfont\": {\"color\": \"#4D5663\"}, \"title\": {\"font\": {\"color\": \"#4D5663\"}, \"text\": \"\"}, \"zerolinecolor\": \"#E1E5ED\"}, \"yaxis\": {\"gridcolor\": \"#E1E5ED\", \"showgrid\": true, \"tickfont\": {\"color\": \"#4D5663\"}, \"title\": {\"font\": {\"color\": \"#4D5663\"}, \"text\": \"Number of Complaints\"}, \"zerolinecolor\": \"#E1E5ED\"}},\n",
       "                        {\"showLink\": true, \"linkText\": \"Export to plot.ly\", \"plotlyServerURL\": \"https://plot.ly\", \"responsive\": true}\n",
       "                    ).then(function(){\n",
       "                            \n",
       "var gd = document.getElementById('31934a30-427e-49f4-a8cf-3bab9b4c2725');\n",
       "var x = new MutationObserver(function (mutations, observer) {{\n",
       "        var display = window.getComputedStyle(gd).display;\n",
       "        if (!display || display === 'none') {{\n",
       "            console.log([gd, 'removed!']);\n",
       "            Plotly.purge(gd);\n",
       "            observer.disconnect();\n",
       "        }}\n",
       "}});\n",
       "\n",
       "// Listen for the removal of the full notebook cells\n",
       "var notebookContainer = gd.closest('#notebook-container');\n",
       "if (notebookContainer) {{\n",
       "    x.observe(notebookContainer, {childList: true});\n",
       "}}\n",
       "\n",
       "// Listen for the clearing of the current output cell\n",
       "var outputEl = gd.closest('.output');\n",
       "if (outputEl) {{\n",
       "    x.observe(outputEl, {childList: true});\n",
       "}}\n",
       "\n",
       "                        })\n",
       "                };\n",
       "                });\n",
       "            </script>\n",
       "        </div>"
      ]
     },
     "metadata": {},
     "output_type": "display_data"
    }
   ],
   "source": [
    "# Mem-plotting jumlah data komplain berdasarkan topik/ produknya (setelah dilakukan penggabungan).\n",
    "import cufflinks as cf\n",
    "cf.go_offline()\n",
    "cf.set_config_file(offline=False, world_readable=True)\n",
    "df['Product'].value_counts().sort_values(ascending=False).iplot(kind='bar', yTitle='Number of Complaints', \n",
    "                                                                title='Number complaints in each product')"
   ]
  },
  {
   "cell_type": "markdown",
   "metadata": {},
   "source": [
    "### Tahap text Preprocessing"
   ]
  },
  {
   "cell_type": "markdown",
   "metadata": {},
   "source": [
    "Tahap text preprocessing disini akan terdiri dari beberapa langkah, antara lain:\n",
    "- Konversi semua teks ke lower case.\n",
    "- Replace simbol yang didefinisikan di REPLACE_BY_SPACE_RE menjadi spasi\n",
    "- Menghilangkan simbol yang termasuk BAD_SYMBOLS_RE pada text.\n",
    "- Menghilangkan “x” pada text.\n",
    "- Remove stopwords.\n",
    "- Remove digit pada text.\n",
    "- Tokenisasi"
   ]
  },
  {
   "cell_type": "code",
   "execution_count": 14,
   "metadata": {},
   "outputs": [
    {
     "name": "stdout",
     "output_type": "stream",
     "text": [
      "I would like to request the suppression of the following items from my credit report, which are the result of my falling victim to identity theft. This information does not relate to [ transactions that I have made/accounts that I have opened ], as the attached supporting documentation can attest. As such, it should be blocked from appearing on my credit report pursuant to section 605B of the Fair Credit Reporting Act.\n",
      "Product: Credit reporting, credit repair services, or other personal consumer reports\n"
     ]
    }
   ],
   "source": [
    "# FUNGSI PRINT_PLOT\n",
    "# Untuk mencetak data pada index yang diinginkan\n",
    "df = df.reset_index(drop=True) #reset index\n",
    "def print_plot(index):\n",
    "    '''\n",
    "    input : index\n",
    "    \n",
    "    return : isi teks dalam Consumer complaint narrative, beserta Produk-nya\n",
    "    '''\n",
    "    example = df[df.index == index][['Consumer complaint narrative', 'Product']].values[0] #ambil informasi pada index=index masukan\n",
    "    if len(example) > 0: #jika pada index ini tidak kosong\n",
    "        print(example[0]) #cetak teks\n",
    "        print('Product:', example[1]) #cetak jenis topik/product\n",
    "\n",
    "# Contoh: Mencetak data yang ada pada index ke-1        \n",
    "print_plot(1)"
   ]
  },
  {
   "cell_type": "code",
   "execution_count": 15,
   "metadata": {},
   "outputs": [
    {
     "name": "stdout",
     "output_type": "stream",
     "text": [
      "I have been trying to resolve a payoff balance and speaking to employee XXXX ( last name refused ) at XXXX. Last communication XXXX/XXXX/19, XXXX with no response. On Wed XX/XX//19 he and I agreed on a payoff balance of {$5300.00} and he would send a written agreement to confirm. After not re ceiving the agreement I called back and spoke to XXXX ( last name refused ) on XXXX/XXXX/19 XXXX XXXX in Customer Service Dept. she informed me XXXX misinformed me because an additional fee to payoff my balance would be {$2500.00} in addition to the {$5300.00} I have pending payments of {$500.00} + {$2100.00} which will add to my current payment {$2600.00} = {$5300.00}, I was suggestive to personal insults by XXXX\n",
      "Product: Debt collection\n"
     ]
    }
   ],
   "source": [
    "print_plot(100) #contoh mencetak data pada indeks ke-100"
   ]
  },
  {
   "cell_type": "markdown",
   "metadata": {},
   "source": [
    "#### 1. Membersihkan Text dan Remove Stopwords"
   ]
  },
  {
   "cell_type": "code",
   "execution_count": 16,
   "metadata": {},
   "outputs": [],
   "source": [
    "import nltk   #menggunakan library nltk\n",
    "from nltk.corpus import stopwords #import library stopwords\n",
    "\n",
    "\n",
    "'''\n",
    "Operasi pada Regular expression:\n",
    "- mencari pattern tertentu yang muncul pada text (pattern: [/(){}\\[\\]\\|@,;])\n",
    "- mencari bad symbol\n",
    "'''\n",
    "REPLACE_BY_SPACE_RE = re.compile('[/(){}\\[\\]\\|@,;]') #mencari simbol-simbol [/(){}\\[\\]\\|@,;] yang muncul dalam teks\n",
    "BAD_SYMBOLS_RE = re.compile('[^0-9a-z #+_]') #mencari bad symbol dengan ekspresi [^0-9a-z #+_]\n",
    "\n",
    "# Stopwords English\n",
    "STOPWORDS = set(stopwords.words(\"english\")) # Menggunakan stopword yang telah ada untuk bahasa inggris\n",
    "\n",
    "# FUNGSI CLEAN_TEXT\n",
    "# Untuk membersihkan text dari kata atau simbol-simbol yang kurang penting.\n",
    "def clean_text(text):\n",
    "    \"\"\"\n",
    "        text: string\n",
    "        \n",
    "        return: string yang telah dibersihkan\n",
    "    \"\"\"\n",
    "    text = text.lower() #Semua text di lowercase\n",
    "    text = REPLACE_BY_SPACE_RE.sub(' ', text) # Substitusi string yang cocok dengan REPLACE_BY_SPACE_RE dengan spasi.\n",
    "    text = BAD_SYMBOLS_RE.sub('', text) # substitusi string yang cocok dengan BAD_SYMBOLS_RE dengan 'nothing'. \n",
    "    text = text.replace('x', '') #substitusi x dengan 'nothing'\n",
    "    text = ' '.join(word for word in text.split() if word not in STOPWORDS) # menghapus stopwords dari text. \n",
    "    return text\n",
    "\n"
   ]
  },
  {
   "cell_type": "code",
   "execution_count": 17,
   "metadata": {},
   "outputs": [],
   "source": [
    "# Memanggil fungsi clean_text untuk diaplikasikan pada semua baris text pada kolom Consumer complaint narrative.\n",
    "df['Consumer complaint narrative'] = df['Consumer complaint narrative'].apply(clean_text)\n",
    "# Menghilangkan digit pada text\n",
    "df['Consumer complaint narrative'] = df['Consumer complaint narrative'].str.replace('\\d+', '')"
   ]
  },
  {
   "cell_type": "code",
   "execution_count": 18,
   "metadata": {},
   "outputs": [
    {
     "name": "stdout",
     "output_type": "stream",
     "text": [
      "would like request suppression following items credit report result falling victim identity theft information relate transactions made accounts opened attached supporting documentation attest blocked appearing credit report pursuant section b fair credit reporting act\n",
      "Product: Credit reporting, credit repair services, or other personal consumer reports\n"
     ]
    }
   ],
   "source": [
    "# Hasil setelah dilakukan proses text cleaning\n",
    "print_plot(1)"
   ]
  },
  {
   "cell_type": "code",
   "execution_count": 19,
   "metadata": {},
   "outputs": [
    {
     "name": "stdout",
     "output_type": "stream",
     "text": [
      "trying resolve payoff balance speaking employee last name refused last communication  response wed  agreed payoff balance  would send written agreement confirm ceiving agreement called back spoke last name refused  customer service dept informed misinformed additional fee payoff balance would  addition  pending payments  +  add current payment   suggestive personal insults\n",
      "Product: Debt collection\n"
     ]
    }
   ],
   "source": [
    "print_plot(100)"
   ]
  },
  {
   "cell_type": "markdown",
   "metadata": {},
   "source": [
    "#### 2. Tokenisasi"
   ]
  },
  {
   "cell_type": "code",
   "execution_count": 20,
   "metadata": {},
   "outputs": [
    {
     "name": "stderr",
     "output_type": "stream",
     "text": [
      "Using TensorFlow backend.\n"
     ]
    },
    {
     "name": "stdout",
     "output_type": "stream",
     "text": [
      "Found 165703 unique tokens.\n"
     ]
    }
   ],
   "source": [
    "import keras\n",
    "from keras.preprocessing.text import Tokenizer\n",
    "\n",
    "# Maksimum jumlah kata yang akan digunakan (dari yang paling sering muncul)\n",
    "MAX_NB_WORDS = 50000\n",
    "# Maksimal jumlah kata pada setiap komplain\n",
    "MAX_SEQUENCE_LENGTH = 250\n",
    "# Dimensi embedding\n",
    "EMBEDDING_DIM = 100\n",
    "\n",
    "'''\n",
    "TOKENISASI\n",
    "- Menggunakan library Tokenizer dari Keras.\n",
    "- Mengeset filter untuk simbol-simbol: !\"#$%&()*+,-./:;<=>?@[\\]^_`{|}~ agar tidak diikutkan.\n",
    "'''\n",
    "\n",
    "tokenizer = Tokenizer(num_words=MAX_NB_WORDS, filters='!\"#$%&()*+,-./:;<=>?@[\\]^_`{|}~', lower=True)\n",
    "tokenizer.fit_on_texts(df['Consumer complaint narrative'].values) # di fit-kan dengan text\n",
    "word_index = tokenizer.word_index #Tokenisasi kata\n",
    "print('Found %s unique tokens.' % len(word_index))"
   ]
  },
  {
   "cell_type": "code",
   "execution_count": 21,
   "metadata": {},
   "outputs": [
    {
     "data": {
      "text/plain": [
       "{'credit': 1,\n",
       " 'account': 2,\n",
       " 'report': 3,\n",
       " 'would': 4,\n",
       " 'information': 5,\n",
       " 'payment': 6,\n",
       " 'loan': 7,\n",
       " 'debt': 8,\n",
       " 'bank': 9,\n",
       " 'told': 10,\n",
       " 'received': 11,\n",
       " 'company': 12,\n",
       " 'card': 13,\n",
       " 'time': 14,\n",
       " 'called': 15,\n",
       " 'never': 16,\n",
       " 'payments': 17,\n",
       " 'reporting': 18,\n",
       " 'sent': 19,\n",
       " 'letter': 20,\n",
       " 'back': 21,\n",
       " 'pay': 22,\n",
       " 'also': 23,\n",
       " 'get': 24,\n",
       " 'paid': 25,\n",
       " 'mortgage': 26,\n",
       " 'call': 27,\n",
       " 'said': 28,\n",
       " 'amount': 29,\n",
       " 'made': 30,\n",
       " 'one': 31,\n",
       " 'due': 32,\n",
       " 'number': 33,\n",
       " 'could': 34,\n",
       " 'phone': 35,\n",
       " 'accounts': 36,\n",
       " 'money': 37,\n",
       " 'days': 38,\n",
       " 'balance': 39,\n",
       " 'nt': 40,\n",
       " 'late': 41,\n",
       " 'collection': 42,\n",
       " 'asked': 43,\n",
       " 'still': 44,\n",
       " 'since': 45,\n",
       " 'consumer': 46,\n",
       " 'date': 47,\n",
       " 'even': 48,\n",
       " 'years': 49,\n",
       " 'please': 50,\n",
       " 'dispute': 51,\n",
       " 'name': 52,\n",
       " 'home': 53,\n",
       " 'make': 54,\n",
       " 'contacted': 55,\n",
       " 'us': 56,\n",
       " 'interest': 57,\n",
       " 'file': 58,\n",
       " 'check': 59,\n",
       " 'month': 60,\n",
       " 'request': 61,\n",
       " 'service': 62,\n",
       " 'months': 63,\n",
       " 'help': 64,\n",
       " 'removed': 65,\n",
       " 'new': 66,\n",
       " 'times': 67,\n",
       " 'address': 68,\n",
       " 'day': 69,\n",
       " 'complaint': 70,\n",
       " 'know': 71,\n",
       " 'reported': 72,\n",
       " 'agency': 73,\n",
       " 'stated': 74,\n",
       " 'contact': 75,\n",
       " 'provide': 76,\n",
       " 'another': 77,\n",
       " 'requested': 78,\n",
       " 'first': 79,\n",
       " 'like': 80,\n",
       " 'see': 81,\n",
       " 'need': 82,\n",
       " 'email': 83,\n",
       " 'several': 84,\n",
       " 'without': 85,\n",
       " 'loans': 86,\n",
       " 'equifa': 87,\n",
       " 'fraud': 88,\n",
       " 'send': 89,\n",
       " 'customer': 90,\n",
       " 'proof': 91,\n",
       " 'closed': 92,\n",
       " 'issue': 93,\n",
       " 'fees': 94,\n",
       " 'last': 95,\n",
       " 'remove': 96,\n",
       " 'original': 97,\n",
       " 'want': 98,\n",
       " 'business': 99,\n",
       " 'documents': 100,\n",
       " 'bureaus': 101,\n",
       " 'take': 102,\n",
       " 'full': 103,\n",
       " 'provided': 104,\n",
       " 'charge': 105,\n",
       " 'however': 106,\n",
       " 'well': 107,\n",
       " 'bill': 108,\n",
       " 'identity': 109,\n",
       " 'went': 110,\n",
       " 'statement': 111,\n",
       " 'year': 112,\n",
       " 'two': 113,\n",
       " 'chase': 114,\n",
       " 'calls': 115,\n",
       " 'mail': 116,\n",
       " 'financial': 117,\n",
       " 'going': 118,\n",
       " 'claim': 119,\n",
       " 'spoke': 120,\n",
       " 'stating': 121,\n",
       " 'filed': 122,\n",
       " 'law': 123,\n",
       " 'got': 124,\n",
       " 'able': 125,\n",
       " 'charges': 126,\n",
       " 'trying': 127,\n",
       " 'work': 128,\n",
       " 'copy': 129,\n",
       " 'process': 130,\n",
       " 'fraudulent': 131,\n",
       " 'fee': 132,\n",
       " 'notice': 133,\n",
       " 'past': 134,\n",
       " 'score': 135,\n",
       " 'receive': 136,\n",
       " 'response': 137,\n",
       " 'tried': 138,\n",
       " 'representative': 139,\n",
       " 'insurance': 140,\n",
       " 'wells': 141,\n",
       " 'online': 142,\n",
       " 'informed': 143,\n",
       " 'funds': 144,\n",
       " 'inquiry': 145,\n",
       " 'case': 146,\n",
       " 'disputed': 147,\n",
       " 'fargo': 148,\n",
       " 'every': 149,\n",
       " 'theft': 150,\n",
       " 'owe': 151,\n",
       " 'charged': 152,\n",
       " 'reports': 153,\n",
       " 'eperian': 154,\n",
       " 'nothing': 155,\n",
       " 'immediately': 156,\n",
       " 'department': 157,\n",
       " 'put': 158,\n",
       " 'opened': 159,\n",
       " 'monthly': 160,\n",
       " 'person': 161,\n",
       " 'car': 162,\n",
       " 'later': 163,\n",
       " 'done': 164,\n",
       " 'attached': 165,\n",
       " 'used': 166,\n",
       " 'regarding': 167,\n",
       " 'anything': 168,\n",
       " 'modification': 169,\n",
       " 'within': 170,\n",
       " 'matter': 171,\n",
       " 'property': 172,\n",
       " 'paying': 173,\n",
       " 'creditor': 174,\n",
       " 'today': 175,\n",
       " 'documentation': 176,\n",
       " 'correct': 177,\n",
       " 'state': 178,\n",
       " 'services': 179,\n",
       " 'give': 180,\n",
       " 'court': 181,\n",
       " 'go': 182,\n",
       " 'yet': 183,\n",
       " 'act': 184,\n",
       " 'someone': 185,\n",
       " 'applied': 186,\n",
       " 'contract': 187,\n",
       " 'bankruptcy': 188,\n",
       " 'personal': 189,\n",
       " 'way': 190,\n",
       " 'via': 191,\n",
       " 'showing': 192,\n",
       " 'section': 193,\n",
       " 'different': 194,\n",
       " 'right': 195,\n",
       " 'already': 196,\n",
       " 'took': 197,\n",
       " 'current': 198,\n",
       " 'federal': 199,\n",
       " 'submitted': 200,\n",
       " 'owed': 201,\n",
       " 'following': 202,\n",
       " 'checking': 203,\n",
       " 'listed': 204,\n",
       " 'security': 205,\n",
       " 'may': 206,\n",
       " 'signed': 207,\n",
       " 'legal': 208,\n",
       " 'fair': 209,\n",
       " 'advised': 210,\n",
       " 'refused': 211,\n",
       " 'believe': 212,\n",
       " 'many': 213,\n",
       " 'bureau': 214,\n",
       " 'office': 215,\n",
       " 'verify': 216,\n",
       " 'needed': 217,\n",
       " 'transunion': 218,\n",
       " 'fact': 219,\n",
       " 'agencies': 220,\n",
       " 'given': 221,\n",
       " 'use': 222,\n",
       " 'three': 223,\n",
       " 'rate': 224,\n",
       " 'inquiries': 225,\n",
       " 'open': 226,\n",
       " 'found': 227,\n",
       " 'required': 228,\n",
       " 'fcra': 229,\n",
       " 'keep': 230,\n",
       " 'making': 231,\n",
       " 'order': 232,\n",
       " 'america': 233,\n",
       " 'must': 234,\n",
       " 'dont': 235,\n",
       " 'per': 236,\n",
       " 'find': 237,\n",
       " 'letters': 238,\n",
       " 'investigation': 239,\n",
       " 'calling': 240,\n",
       " 'verified': 241,\n",
       " 'attorney': 242,\n",
       " 'student': 243,\n",
       " 'error': 244,\n",
       " 'multiple': 245,\n",
       " 'saying': 246,\n",
       " 'problem': 247,\n",
       " 'negative': 248,\n",
       " 'application': 249,\n",
       " 'agreement': 250,\n",
       " 'people': 251,\n",
       " 'house': 252,\n",
       " 'ago': 253,\n",
       " 'asking': 254,\n",
       " 'companies': 255,\n",
       " 'collect': 256,\n",
       " 'im': 257,\n",
       " 'transaction': 258,\n",
       " 'getting': 259,\n",
       " 'inaccurate': 260,\n",
       " 'net': 261,\n",
       " 'status': 262,\n",
       " 'manager': 263,\n",
       " 'cfpb': 264,\n",
       " 'items': 265,\n",
       " 'taken': 266,\n",
       " 'violation': 267,\n",
       " 'transfer': 268,\n",
       " 'continue': 269,\n",
       " 'system': 270,\n",
       " 'collections': 271,\n",
       " 'mine': 272,\n",
       " 'escrow': 273,\n",
       " 'incorrect': 274,\n",
       " 'gave': 275,\n",
       " 'reason': 276,\n",
       " 'though': 277,\n",
       " 'additional': 278,\n",
       " 'denied': 279,\n",
       " 'say': 280,\n",
       " 'situation': 281,\n",
       " 'ask': 282,\n",
       " 'stop': 283,\n",
       " 'show': 284,\n",
       " 'purchase': 285,\n",
       " 'failed': 286,\n",
       " 'offer': 287,\n",
       " 'eplained': 288,\n",
       " 'foreclosure': 289,\n",
       " 'requesting': 290,\n",
       " 'tell': 291,\n",
       " 'good': 292,\n",
       " 'line': 293,\n",
       " 'supervisor': 294,\n",
       " 'didnt': 295,\n",
       " 'navient': 296,\n",
       " 'capital': 297,\n",
       " 'verification': 298,\n",
       " 'point': 299,\n",
       " 'history': 300,\n",
       " 'hard': 301,\n",
       " 'states': 302,\n",
       " 'sold': 303,\n",
       " 'written': 304,\n",
       " 'action': 305,\n",
       " 'wrong': 306,\n",
       " 'hold': 307,\n",
       " 'unable': 308,\n",
       " 'income': 309,\n",
       " 'statements': 310,\n",
       " 'ever': 311,\n",
       " 'validation': 312,\n",
       " 'speak': 313,\n",
       " 'using': 314,\n",
       " 'resolve': 315,\n",
       " 'close': 316,\n",
       " 'agreed': 317,\n",
       " 'place': 318,\n",
       " 'sale': 319,\n",
       " 'feel': 320,\n",
       " 'transferred': 321,\n",
       " 'placed': 322,\n",
       " 'end': 323,\n",
       " 'refund': 324,\n",
       " 'access': 325,\n",
       " 'returned': 326,\n",
       " 'record': 327,\n",
       " 'website': 328,\n",
       " 'thank': 329,\n",
       " 'social': 330,\n",
       " 'prior': 331,\n",
       " 'alleged': 332,\n",
       " 'around': 333,\n",
       " 'weeks': 334,\n",
       " 'left': 335,\n",
       " 'total': 336,\n",
       " 'much': 337,\n",
       " 'item': 338,\n",
       " 'practices': 339,\n",
       " 'recently': 340,\n",
       " 'started': 341,\n",
       " 'cards': 342,\n",
       " 'sure': 343,\n",
       " 'notified': 344,\n",
       " 'finally': 345,\n",
       " 'vehicle': 346,\n",
       " 'ive': 347,\n",
       " 'old': 348,\n",
       " 'week': 349,\n",
       " 'upon': 350,\n",
       " 'writing': 351,\n",
       " 'plan': 352,\n",
       " 'certified': 353,\n",
       " 'deleted': 354,\n",
       " 'lender': 355,\n",
       " 'issues': 356,\n",
       " 'records': 357,\n",
       " 'deposit': 358,\n",
       " 'result': 359,\n",
       " 'police': 360,\n",
       " 'form': 361,\n",
       " 'longer': 362,\n",
       " 'review': 363,\n",
       " 'return': 364,\n",
       " 'wanted': 365,\n",
       " 'note': 366,\n",
       " 'dated': 367,\n",
       " 'signature': 368,\n",
       " 'instead': 369,\n",
       " 'false': 370,\n",
       " 'second': 371,\n",
       " 'complete': 372,\n",
       " 'set': 373,\n",
       " 'agent': 374,\n",
       " 'id': 375,\n",
       " 'including': 376,\n",
       " 'change': 377,\n",
       " 'rep': 378,\n",
       " 'something': 379,\n",
       " 'shows': 380,\n",
       " 'b': 381,\n",
       " 'closing': 382,\n",
       " 'let': 383,\n",
       " 'came': 384,\n",
       " 'either': 385,\n",
       " 'receiving': 386,\n",
       " 'part': 387,\n",
       " 'period': 388,\n",
       " 'care': 389,\n",
       " 'document': 390,\n",
       " 'based': 391,\n",
       " 'numerous': 392,\n",
       " 'paperwork': 393,\n",
       " 'ca': 394,\n",
       " 'available': 395,\n",
       " 'ta': 396,\n",
       " 'understand': 397,\n",
       " 'hours': 398,\n",
       " 'happened': 399,\n",
       " 'servicing': 400,\n",
       " 'branch': 401,\n",
       " 'approved': 402,\n",
       " 'claims': 403,\n",
       " 'answer': 404,\n",
       " 'bills': 405,\n",
       " 'victim': 406,\n",
       " 'program': 407,\n",
       " 'rights': 408,\n",
       " 'transactions': 409,\n",
       " 'cash': 410,\n",
       " 'job': 411,\n",
       " 'according': 412,\n",
       " 'numbers': 413,\n",
       " 'terms': 414,\n",
       " 'apply': 415,\n",
       " 'delete': 416,\n",
       " 'working': 417,\n",
       " 'resolved': 418,\n",
       " 'previous': 419,\n",
       " 'everything': 420,\n",
       " 'block': 421,\n",
       " 'message': 422,\n",
       " 'try': 423,\n",
       " 'dollars': 424,\n",
       " 'changed': 425,\n",
       " 'debit': 426,\n",
       " 'sending': 427,\n",
       " 'updated': 428,\n",
       " 'family': 429,\n",
       " 'husband': 430,\n",
       " 'mailed': 431,\n",
       " 'knowledge': 432,\n",
       " 'receipt': 433,\n",
       " 'authorized': 434,\n",
       " 'aware': 435,\n",
       " 'noticed': 436,\n",
       " 'accurate': 437,\n",
       " 'ocwen': 438,\n",
       " 'always': 439,\n",
       " 'citi': 440,\n",
       " 'auto': 441,\n",
       " 'currently': 442,\n",
       " 'attempted': 443,\n",
       " 'medical': 444,\n",
       " 'collector': 445,\n",
       " 'evidence': 446,\n",
       " 'long': 447,\n",
       " 'clear': 448,\n",
       " 'purchased': 449,\n",
       " 'points': 450,\n",
       " 'finance': 451,\n",
       " 'assistance': 452,\n",
       " 'continued': 453,\n",
       " 'added': 454,\n",
       " 'attempt': 455,\n",
       " 'principal': 456,\n",
       " 'wife': 457,\n",
       " 'come': 458,\n",
       " 'unauthorized': 459,\n",
       " 'citibank': 460,\n",
       " 'included': 461,\n",
       " 'title': 462,\n",
       " 'info': 463,\n",
       " 'therefore': 464,\n",
       " 'responded': 465,\n",
       " 'allowed': 466,\n",
       " 'look': 467,\n",
       " 'third': 468,\n",
       " 'taes': 469,\n",
       " 'anyone': 470,\n",
       " 'needs': 471,\n",
       " 'directly': 472,\n",
       " 'party': 473,\n",
       " 'clearly': 474,\n",
       " 'data': 475,\n",
       " 'completed': 476,\n",
       " 'refuse': 477,\n",
       " 'american': 478,\n",
       " 'protection': 479,\n",
       " 'almost': 480,\n",
       " 'says': 481,\n",
       " 'respond': 482,\n",
       " 'actually': 483,\n",
       " 'billing': 484,\n",
       " 'consumers': 485,\n",
       " 'confirmed': 486,\n",
       " 'offered': 487,\n",
       " 'cant': 488,\n",
       " 'lost': 489,\n",
       " 'telling': 490,\n",
       " 'possible': 491,\n",
       " 'update': 492,\n",
       " 'dates': 493,\n",
       " 'filing': 494,\n",
       " 'paypal': 495,\n",
       " 'caused': 496,\n",
       " 'notification': 497,\n",
       " 'settlement': 498,\n",
       " 'thing': 499,\n",
       " 'think': 500,\n",
       " 'least': 501,\n",
       " 'checks': 502,\n",
       " 'taking': 503,\n",
       " 'policy': 504,\n",
       " 'illegal': 505,\n",
       " 'fi': 506,\n",
       " 'shall': 507,\n",
       " 'customers': 508,\n",
       " 'despite': 509,\n",
       " 'allow': 510,\n",
       " 'short': 511,\n",
       " 'type': 512,\n",
       " 'copies': 513,\n",
       " 'else': 514,\n",
       " 'public': 515,\n",
       " 'obtain': 516,\n",
       " 'resolution': 517,\n",
       " 'direct': 518,\n",
       " 'less': 519,\n",
       " 'recovery': 520,\n",
       " 'issued': 521,\n",
       " 'servicer': 522,\n",
       " 'investigate': 523,\n",
       " 'kept': 524,\n",
       " 'thought': 525,\n",
       " 'really': 526,\n",
       " 'activity': 527,\n",
       " 'supposed': 528,\n",
       " 'sign': 529,\n",
       " 'delinquent': 530,\n",
       " 'twice': 531,\n",
       " 'limit': 532,\n",
       " 'fa': 533,\n",
       " 'responsible': 534,\n",
       " 'repayment': 535,\n",
       " 'question': 536,\n",
       " 'life': 537,\n",
       " 'questions': 538,\n",
       " 'along': 539,\n",
       " 'checked': 540,\n",
       " 'communication': 541,\n",
       " 'heard': 542,\n",
       " 'school': 543,\n",
       " 'eplain': 544,\n",
       " 'laws': 545,\n",
       " 'decided': 546,\n",
       " 'previously': 547,\n",
       " 'disputes': 548,\n",
       " 'epress': 549,\n",
       " 'creditors': 550,\n",
       " 'belong': 551,\n",
       " 'emails': 552,\n",
       " 'enough': 553,\n",
       " 'high': 554,\n",
       " 'etc': 555,\n",
       " 'repeatedly': 556,\n",
       " 'refinance': 557,\n",
       " 'away': 558,\n",
       " 'reached': 559,\n",
       " 'valid': 560,\n",
       " 'missed': 561,\n",
       " 'accept': 562,\n",
       " 'behind': 563,\n",
       " 'default': 564,\n",
       " 'disputing': 565,\n",
       " 'completely': 566,\n",
       " 'overdraft': 567,\n",
       " 'attempts': 568,\n",
       " 'complaints': 569,\n",
       " 'mistake': 570,\n",
       " 'option': 571,\n",
       " 'forbearance': 572,\n",
       " 'banks': 573,\n",
       " 'addition': 574,\n",
       " 'eplanation': 575,\n",
       " 'support': 576,\n",
       " 'soon': 577,\n",
       " 'wait': 578,\n",
       " 'final': 579,\n",
       " 'validate': 580,\n",
       " 'payoff': 581,\n",
       " 'prove': 582,\n",
       " 'telephone': 583,\n",
       " 'discover': 584,\n",
       " 'confirmation': 585,\n",
       " 'amounts': 586,\n",
       " 'start': 587,\n",
       " 'local': 588,\n",
       " 'lease': 589,\n",
       " 'things': 590,\n",
       " 'details': 591,\n",
       " 'live': 592,\n",
       " 'showed': 593,\n",
       " 'plus': 594,\n",
       " 'contacting': 595,\n",
       " 'c': 596,\n",
       " 'forward': 597,\n",
       " 'began': 598,\n",
       " 'correspondence': 599,\n",
       " 'submit': 600,\n",
       " 'union': 601,\n",
       " 'free': 602,\n",
       " 'corrected': 603,\n",
       " 'proper': 604,\n",
       " 'talk': 605,\n",
       " 'banking': 606,\n",
       " 'seems': 607,\n",
       " 'representatives': 608,\n",
       " 'regards': 609,\n",
       " 'lower': 610,\n",
       " 'posted': 611,\n",
       " 'continues': 612,\n",
       " 'follow': 613,\n",
       " 'loss': 614,\n",
       " 'attempting': 615,\n",
       " 'debts': 616,\n",
       " 'usc': 617,\n",
       " 'llc': 618,\n",
       " 'entire': 619,\n",
       " 'ftc': 620,\n",
       " 'cancel': 621,\n",
       " 'acct': 622,\n",
       " 'fdcpa': 623,\n",
       " 'bonus': 624,\n",
       " 'claimed': 625,\n",
       " 'true': 626,\n",
       " 'recent': 627,\n",
       " 'alert': 628,\n",
       " 'nationstar': 629,\n",
       " 'knew': 630,\n",
       " 'cancelled': 631,\n",
       " 'inc': 632,\n",
       " 'behalf': 633,\n",
       " 'looking': 634,\n",
       " 'cost': 635,\n",
       " 'bad': 636,\n",
       " 'minimum': 637,\n",
       " 'fied': 638,\n",
       " 'giving': 639,\n",
       " 'demand': 640,\n",
       " 'requests': 641,\n",
       " 'simply': 642,\n",
       " 'recorded': 643,\n",
       " 'lien': 644,\n",
       " 'options': 645,\n",
       " 'stolen': 646,\n",
       " 'merchant': 647,\n",
       " 'unfair': 648,\n",
       " 'private': 649,\n",
       " 'blocked': 650,\n",
       " 'breach': 651,\n",
       " 'properly': 652,\n",
       " 'value': 653,\n",
       " 'code': 654,\n",
       " 'consent': 655,\n",
       " 'concern': 656,\n",
       " 'afford': 657,\n",
       " 'minutes': 658,\n",
       " 'authorization': 659,\n",
       " 'permission': 660,\n",
       " 'appraisal': 661,\n",
       " 'release': 662,\n",
       " 'e': 663,\n",
       " 'means': 664,\n",
       " 'actions': 665,\n",
       " 'wrote': 666,\n",
       " 'increase': 667,\n",
       " 'obtained': 668,\n",
       " 'decision': 669,\n",
       " 'chapter': 670,\n",
       " 'dept': 671,\n",
       " 'initial': 672,\n",
       " 'p': 673,\n",
       " 'deposited': 674,\n",
       " 'best': 675,\n",
       " 'held': 676,\n",
       " 'management': 677,\n",
       " 'run': 678,\n",
       " 'county': 679,\n",
       " 'early': 680,\n",
       " 'occasions': 681,\n",
       " 'buy': 682,\n",
       " 'trust': 683,\n",
       " 'practice': 684,\n",
       " 'higher': 685,\n",
       " 'violated': 686,\n",
       " 'page': 687,\n",
       " 'although': 688,\n",
       " 'charging': 689,\n",
       " 'reach': 690,\n",
       " 'providing': 691,\n",
       " 'hung': 692,\n",
       " 'saw': 693,\n",
       " 'general': 694,\n",
       " 'processed': 695,\n",
       " 'freeze': 696,\n",
       " 'mother': 697,\n",
       " 'talked': 698,\n",
       " 'store': 699,\n",
       " 'pulled': 700,\n",
       " 'approimately': 701,\n",
       " 'none': 702,\n",
       " 'problems': 703,\n",
       " 'license': 704,\n",
       " 'conversation': 705,\n",
       " 'promised': 706,\n",
       " 'real': 707,\n",
       " 'confirm': 708,\n",
       " 'notify': 709,\n",
       " 'results': 710,\n",
       " 'authorize': 711,\n",
       " 'savings': 712,\n",
       " 'single': 713,\n",
       " 'etra': 714,\n",
       " 'wasnt': 715,\n",
       " 'hardship': 716,\n",
       " 'boa': 717,\n",
       " 'gone': 718,\n",
       " 'purchases': 719,\n",
       " 'named': 720,\n",
       " 'derogatory': 721,\n",
       " 'reference': 722,\n",
       " 'emailed': 723,\n",
       " 'assured': 724,\n",
       " 'deal': 725,\n",
       " 'reviewed': 726,\n",
       " 'waiting': 727,\n",
       " 'portfolio': 728,\n",
       " 'otherwise': 729,\n",
       " 'list': 730,\n",
       " 'causing': 731,\n",
       " 'move': 732,\n",
       " 'rude': 733,\n",
       " 'paper': 734,\n",
       " 'responsibility': 735,\n",
       " 'indicated': 736,\n",
       " 'assist': 737,\n",
       " 'scam': 738,\n",
       " 'mentioned': 739,\n",
       " 'worked': 740,\n",
       " 'claiming': 741,\n",
       " 'moved': 742,\n",
       " 'beginning': 743,\n",
       " 'ability': 744,\n",
       " 'individual': 745,\n",
       " 'outstanding': 746,\n",
       " 'declined': 747,\n",
       " 'affected': 748,\n",
       " 'appears': 749,\n",
       " 'ditech': 750,\n",
       " 'delinquency': 751,\n",
       " 'major': 752,\n",
       " 'employee': 753,\n",
       " 'correctly': 754,\n",
       " 'manner': 755,\n",
       " 'related': 756,\n",
       " 'far': 757,\n",
       " 'government': 758,\n",
       " 'cover': 759,\n",
       " 'discovered': 760,\n",
       " 'stopped': 761,\n",
       " 'couple': 762,\n",
       " 'pnc': 763,\n",
       " 'timely': 764,\n",
       " 'cell': 765,\n",
       " 'usaa': 766,\n",
       " 'idea': 767,\n",
       " 'systems': 768,\n",
       " 'forced': 769,\n",
       " 'read': 770,\n",
       " 'refuses': 771,\n",
       " 'firm': 772,\n",
       " 'happen': 773,\n",
       " 'bought': 774,\n",
       " 'standing': 775,\n",
       " 'missing': 776,\n",
       " 'compliance': 777,\n",
       " 'errors': 778,\n",
       " 'add': 779,\n",
       " 'actual': 780,\n",
       " 'pending': 781,\n",
       " 'lot': 782,\n",
       " 'inform': 783,\n",
       " 'credited': 784,\n",
       " 'lived': 785,\n",
       " 'mr': 786,\n",
       " 'addresses': 787,\n",
       " 'incorrectly': 788,\n",
       " 'research': 789,\n",
       " 'apartment': 790,\n",
       " 'accepted': 791,\n",
       " 'small': 792,\n",
       " 'owner': 793,\n",
       " 'obligation': 794,\n",
       " 'known': 795,\n",
       " 'purpose': 796,\n",
       " 'cease': 797,\n",
       " 'couldnt': 798,\n",
       " 'lawsuit': 799,\n",
       " 'became': 800,\n",
       " 'qualify': 801,\n",
       " 'associated': 802,\n",
       " 'synchrony': 803,\n",
       " 'unless': 804,\n",
       " 'annual': 805,\n",
       " 'turned': 806,\n",
       " 'four': 807,\n",
       " 'speaking': 808,\n",
       " 'refusing': 809,\n",
       " 'employment': 810,\n",
       " 'remaining': 811,\n",
       " 'post': 812,\n",
       " 'failure': 813,\n",
       " 'client': 814,\n",
       " 'oh': 815,\n",
       " 'willing': 816,\n",
       " 'leave': 817,\n",
       " 'hospital': 818,\n",
       " 'include': 819,\n",
       " 'better': 820,\n",
       " 'lending': 821,\n",
       " 'requirements': 822,\n",
       " 'national': 823,\n",
       " 'investigated': 824,\n",
       " 'looked': 825,\n",
       " 'deed': 826,\n",
       " 'ecept': 827,\n",
       " 'passed': 828,\n",
       " 'files': 829,\n",
       " 'dropped': 830,\n",
       " 'site': 831,\n",
       " 'processing': 832,\n",
       " 'erroneous': 833,\n",
       " 'sell': 834,\n",
       " 'spent': 835,\n",
       " 'towards': 836,\n",
       " 'course': 837,\n",
       " 'atm': 838,\n",
       " 'etremely': 839,\n",
       " 'kind': 840,\n",
       " 'affidavit': 841,\n",
       " 'identified': 842,\n",
       " 'balances': 843,\n",
       " 'future': 844,\n",
       " 'scheduled': 845,\n",
       " 'ended': 846,\n",
       " 'inquires': 847,\n",
       " 'others': 848,\n",
       " 'pull': 849,\n",
       " 'occurred': 850,\n",
       " 'son': 851,\n",
       " 'automatic': 852,\n",
       " 'rates': 853,\n",
       " 'promptly': 854,\n",
       " 'ignored': 855,\n",
       " 'fault': 856,\n",
       " 'damage': 857,\n",
       " 'increased': 858,\n",
       " 'specifically': 859,\n",
       " 'cause': 860,\n",
       " 'education': 861,\n",
       " 'involved': 862,\n",
       " 'morning': 863,\n",
       " 'lack': 864,\n",
       " 'settled': 865,\n",
       " 'whole': 866,\n",
       " 'harassing': 867,\n",
       " 'judgment': 868,\n",
       " 'lawyer': 869,\n",
       " 'faed': 870,\n",
       " 'thats': 871,\n",
       " 'damages': 872,\n",
       " 'originally': 873,\n",
       " 'necessary': 874,\n",
       " 'apparently': 875,\n",
       " 'settle': 876,\n",
       " 'deceptive': 877,\n",
       " 'messages': 878,\n",
       " 'fl': 879,\n",
       " 'whether': 880,\n",
       " 'appear': 881,\n",
       " 'separate': 882,\n",
       " 'approval': 883,\n",
       " 'employer': 884,\n",
       " 'promotion': 885,\n",
       " 'threatening': 886,\n",
       " 'borrower': 887,\n",
       " 'discharged': 888,\n",
       " 'great': 889,\n",
       " 'california': 890,\n",
       " 'avoid': 891,\n",
       " 'makes': 892,\n",
       " 'little': 893,\n",
       " 'va': 894,\n",
       " 'trade': 895,\n",
       " 'neither': 896,\n",
       " 'ending': 897,\n",
       " 'daughter': 898,\n",
       " 'reasonable': 899,\n",
       " 'concerning': 900,\n",
       " 'opening': 901,\n",
       " 'unverified': 902,\n",
       " 'reply': 903,\n",
       " 'cleared': 904,\n",
       " 'legally': 905,\n",
       " 'advance': 906,\n",
       " 'specific': 907,\n",
       " 'resulted': 908,\n",
       " 'rent': 909,\n",
       " 'fully': 910,\n",
       " 'hour': 911,\n",
       " 'teas': 912,\n",
       " 'yes': 913,\n",
       " 'accuracy': 914,\n",
       " 'additionally': 915,\n",
       " 'pursuant': 916,\n",
       " 'coming': 917,\n",
       " 'spoken': 918,\n",
       " 'refunded': 919,\n",
       " 'met': 920,\n",
       " 'followed': 921,\n",
       " 'doesnt': 922,\n",
       " 'monday': 923,\n",
       " 'parties': 924,\n",
       " 'subsection': 925,\n",
       " 'answered': 926,\n",
       " 'trial': 927,\n",
       " 'officer': 928,\n",
       " 'seem': 929,\n",
       " 'understanding': 930,\n",
       " 'impossible': 931,\n",
       " 'subject': 932,\n",
       " 'holder': 933,\n",
       " 'equity': 934,\n",
       " 'hope': 935,\n",
       " 'thus': 936,\n",
       " 'assigned': 937,\n",
       " 'hear': 938,\n",
       " 'names': 939,\n",
       " 'negatively': 940,\n",
       " 'ame': 941,\n",
       " 'agree': 942,\n",
       " 'bring': 943,\n",
       " 'reflect': 944,\n",
       " 'electronic': 945,\n",
       " 'deferment': 946,\n",
       " 'rather': 947,\n",
       " 'considered': 948,\n",
       " 'wont': 949,\n",
       " 'civil': 950,\n",
       " 'realized': 951,\n",
       " 'present': 952,\n",
       " 'institution': 953,\n",
       " 'unknown': 954,\n",
       " 'regular': 955,\n",
       " 'computer': 956,\n",
       " 'supporting': 957,\n",
       " 'fraudulently': 958,\n",
       " 'papers': 959,\n",
       " 'certain': 960,\n",
       " 'united': 961,\n",
       " 'reasons': 962,\n",
       " 'applying': 963,\n",
       " 'half': 964,\n",
       " 'absolutely': 965,\n",
       " 'difficult': 966,\n",
       " 'team': 967,\n",
       " 'living': 968,\n",
       " 'keeps': 969,\n",
       " 'eligible': 970,\n",
       " 'fine': 971,\n",
       " 'attention': 972,\n",
       " 'might': 973,\n",
       " 'changes': 974,\n",
       " 'unfortunately': 975,\n",
       " 'wire': 976,\n",
       " 'located': 977,\n",
       " 'physical': 978,\n",
       " 'comply': 979,\n",
       " 'accordance': 980,\n",
       " 'friday': 981,\n",
       " 'scores': 982,\n",
       " 'denial': 983,\n",
       " 'disclosure': 984,\n",
       " 'automated': 985,\n",
       " 'florida': 986,\n",
       " 'mailing': 987,\n",
       " 'relationship': 988,\n",
       " 'created': 989,\n",
       " 'employees': 990,\n",
       " 'dealership': 991,\n",
       " 'judgement': 992,\n",
       " 'illegally': 993,\n",
       " 'protect': 994,\n",
       " 'furthermore': 995,\n",
       " 'pmi': 996,\n",
       " 'entered': 997,\n",
       " 'similar': 998,\n",
       " 'removal': 999,\n",
       " 'holding': 1000,\n",
       " ...}"
      ]
     },
     "execution_count": 21,
     "metadata": {},
     "output_type": "execute_result"
    }
   ],
   "source": [
    "word_index #contoh isi token"
   ]
  },
  {
   "cell_type": "code",
   "execution_count": 22,
   "metadata": {},
   "outputs": [
    {
     "name": "stdout",
     "output_type": "stream",
     "text": [
      "Shape of data tensor: (488176, 250)\n"
     ]
    }
   ],
   "source": [
    "from keras.preprocessing.sequence import pad_sequences\n",
    "# potong dan pasang input sehingga mereka memiliki panjang yang sama.\n",
    "# membuat sequence text imput\n",
    "X = tokenizer.texts_to_sequences(df['Consumer complaint narrative'].values)\n",
    "#membuat batch\n",
    "X = pad_sequences(X, maxlen=MAX_SEQUENCE_LENGTH)\n",
    "print('Shape of data tensor:', X.shape)"
   ]
  },
  {
   "cell_type": "code",
   "execution_count": 23,
   "metadata": {},
   "outputs": [
    {
     "name": "stdout",
     "output_type": "stream",
     "text": [
      "Shape of label tensor: (488176, 13)\n"
     ]
    }
   ],
   "source": [
    "#convert categorical list ke angka\n",
    "Y = pd.get_dummies(df['Product']).values\n",
    "print('Shape of label tensor:', Y.shape)"
   ]
  },
  {
   "cell_type": "markdown",
   "metadata": {},
   "source": [
    "### Tahap Pemodelan LSTM"
   ]
  },
  {
   "cell_type": "markdown",
   "metadata": {},
   "source": [
    "Tahap-tahap pemodelan LSTM dapat dituliskan sebagai berikut:\n",
    "1. Split data menjadi data training dan data testing dengan perbandingan 90:10\n",
    "2. Masukkan data yang telah di preprocessing kedalam model LSTM\n",
    "3. Hitung akurasi model yang dihasilkan"
   ]
  },
  {
   "cell_type": "code",
   "execution_count": 24,
   "metadata": {},
   "outputs": [
    {
     "name": "stdout",
     "output_type": "stream",
     "text": [
      "(439358, 250) (439358, 13)\n",
      "(48818, 250) (48818, 13)\n"
     ]
    }
   ],
   "source": [
    "from sklearn.model_selection import train_test_split\n",
    "'''\n",
    "Split data --> training : testing = 90:10.\n",
    "Menggunakan train_test_split, dengan test_size = 0.1 (10%).\n",
    "Disimpan dalam variabel X_train, X_test, Y_train, Y_test.\n",
    "'''\n",
    "X_train, X_test, Y_train, Y_test = train_test_split(X,Y, test_size = 0.10, random_state = 42)\n",
    "print(X_train.shape,Y_train.shape)\n",
    "print(X_test.shape,Y_test.shape)"
   ]
  },
  {
   "cell_type": "code",
   "execution_count": null,
   "metadata": {},
   "outputs": [
    {
     "name": "stdout",
     "output_type": "stream",
     "text": [
      "WARNING:tensorflow:From //anaconda3/lib/python3.7/site-packages/keras/backend/tensorflow_backend.py:74: The name tf.get_default_graph is deprecated. Please use tf.compat.v1.get_default_graph instead.\n",
      "\n",
      "WARNING:tensorflow:From //anaconda3/lib/python3.7/site-packages/keras/backend/tensorflow_backend.py:517: The name tf.placeholder is deprecated. Please use tf.compat.v1.placeholder instead.\n",
      "\n",
      "WARNING:tensorflow:From //anaconda3/lib/python3.7/site-packages/keras/backend/tensorflow_backend.py:4138: The name tf.random_uniform is deprecated. Please use tf.random.uniform instead.\n",
      "\n",
      "WARNING:tensorflow:From //anaconda3/lib/python3.7/site-packages/keras/backend/tensorflow_backend.py:133: The name tf.placeholder_with_default is deprecated. Please use tf.compat.v1.placeholder_with_default instead.\n",
      "\n",
      "WARNING:tensorflow:From //anaconda3/lib/python3.7/site-packages/keras/backend/tensorflow_backend.py:3445: calling dropout (from tensorflow.python.ops.nn_ops) with keep_prob is deprecated and will be removed in a future version.\n",
      "Instructions for updating:\n",
      "Please use `rate` instead of `keep_prob`. Rate should be set to `rate = 1 - keep_prob`.\n",
      "WARNING:tensorflow:From //anaconda3/lib/python3.7/site-packages/keras/optimizers.py:790: The name tf.train.Optimizer is deprecated. Please use tf.compat.v1.train.Optimizer instead.\n",
      "\n",
      "WARNING:tensorflow:From //anaconda3/lib/python3.7/site-packages/keras/backend/tensorflow_backend.py:3295: The name tf.log is deprecated. Please use tf.math.log instead.\n",
      "\n",
      "WARNING:tensorflow:From //anaconda3/lib/python3.7/site-packages/tensorflow/python/ops/math_grad.py:1250: add_dispatch_support.<locals>.wrapper (from tensorflow.python.ops.array_ops) is deprecated and will be removed in a future version.\n",
      "Instructions for updating:\n",
      "Use tf.where in 2.0, which has the same broadcast rule as np.where\n",
      "Train on 395422 samples, validate on 43936 samples\n",
      "Epoch 1/5\n",
      "395422/395422 [==============================] - 8481s 21ms/step - loss: 0.8625 - acc: 0.7253 - val_loss: 0.6390 - val_acc: 0.7880\n",
      "Epoch 2/5\n",
      "395422/395422 [==============================] - 9134s 23ms/step - loss: 0.5888 - acc: 0.8011 - val_loss: 0.5456 - val_acc: 0.8116\n",
      "Epoch 3/5\n",
      " 68992/395422 [====>.........................] - ETA: 1:45:21 - loss: 0.5212 - acc: 0.8204"
     ]
    }
   ],
   "source": [
    "# LIBRARY KERAS untuk LSTM\n",
    "from keras.models import Sequential\n",
    "from keras.layers import Dense\n",
    "from keras.layers import LSTM\n",
    "from keras.layers import Dropout\n",
    "from keras.layers import Embedding\n",
    "from keras.layers import SpatialDropout1D\n",
    "from keras.callbacks import EarlyStopping\n",
    "\n",
    "'''\n",
    "LSTM STEP-BY STEP\n",
    "------------------------\n",
    "\n",
    "Arsitektur LSTM disini dibangun dengan tahapan, antara lain:\n",
    "1. Membuat Keras model dengan Sequential() constructor\n",
    "2. LAYER 1: Embedding layer\n",
    "    --> Proses word to vektor (mengubah input sequence ke vector dengan ukuran EMBEDDING_DIM) dilakukan langsung di dalam layer ini. \n",
    "3. LAYER 2 : Dropout menggunakan variasi SpatialDropout1D\n",
    "4. LAYER 3 : LSTM layer dengan 100 memory units\n",
    "5. LAYER 4 : Dense (output layer, membentuk 13 kelas). Fungsi aktivasi yang digunakan adalah softmax\n",
    "6. Mengkompile model dengan loss = categorical_crossentropy (karena kasus yang ditangani adalah multi-class) dan optimizer = adam\n",
    "'''\n",
    "model = Sequential()\n",
    "model.add(Embedding(MAX_NB_WORDS, EMBEDDING_DIM, input_length=X.shape[1]))\n",
    "model.add(SpatialDropout1D(0.2))\n",
    "model.add(LSTM(100, dropout=0.2, recurrent_dropout=0.2))\n",
    "model.add(Dense(13, activation='softmax'))\n",
    "model.compile(loss='categorical_crossentropy', optimizer='adam', metrics=['accuracy'])\n",
    "\n",
    "epochs = 5 #jumlah epoch\n",
    "batch_size = 64 #ukuran batch\n",
    "\n",
    "#menjalankan proses learning\n",
    "history = model.fit(X_train, Y_train, epochs=epochs, batch_size=batch_size,validation_split=0.1,callbacks=[EarlyStopping(monitor='val_loss', patience=3, min_delta=0.0001)])\n"
   ]
  },
  {
   "cell_type": "code",
   "execution_count": null,
   "metadata": {},
   "outputs": [],
   "source": [
    "# menghitung dan mencetak hasil akurasi yang diperoleh\n",
    "accr = model.evaluate(X_test,Y_test)\n",
    "print('Test set\\n  Loss: {:0.3f}\\n  Accuracy: {:0.3f}'.format(accr[0],accr[1]))"
   ]
  },
  {
   "cell_type": "code",
   "execution_count": null,
   "metadata": {},
   "outputs": [],
   "source": [
    "# Mem-plot hasil Loss ke dalam grafik\n",
    "plt.title('Loss')\n",
    "plt.plot(history.history['loss'], label='train')\n",
    "plt.plot(history.history['val_loss'], label='test')\n",
    "plt.legend()\n",
    "plt.show();"
   ]
  },
  {
   "cell_type": "code",
   "execution_count": null,
   "metadata": {},
   "outputs": [],
   "source": [
    "# Mem-plot hasil Akurasi ke dalam grafik\n",
    "plt.title('Accuracy')\n",
    "plt.plot(history.history['acc'], label='train')\n",
    "plt.plot(history.history['val_acc'], label='test')\n",
    "plt.legend()\n",
    "plt.show();"
   ]
  },
  {
   "cell_type": "markdown",
   "metadata": {},
   "source": [
    "Test dengan Komplain baru"
   ]
  },
  {
   "cell_type": "code",
   "execution_count": null,
   "metadata": {},
   "outputs": [],
   "source": [
    "# misalkan diberikan masukan data baru, maka data tersebut bisa langsung dipresiksi label/ topik/ produk-nya dengan menjalankannya pada model yang telah diperoleh\n",
    "new_complaint = ['I am a victim of identity theft and someone stole my identity and personal information to open up a Visa credit card account with Bank of America. The following Bank of America Visa credit card account do not belong to me : XXXX.']\n",
    "seq = tokenizer.texts_to_sequences(new_complaint)\n",
    "padded = pad_sequences(seq, maxlen=MAX_SEQUENCE_LENGTH)\n",
    "pred = model.predict(padded)\n",
    "labels = ['Credit reporting, credit repair services, or other personal consumer reports', 'Debt collection', 'Mortgage', 'Credit card or prepaid card', 'Student loan', 'Bank account or service', 'Checking or savings account', 'Consumer Loan', 'Payday loan, title loan, or personal loan', 'Vehicle loan or lease', 'Money transfer, virtual currency, or money service', 'Money transfers', 'Prepaid card']\n",
    "print(pred, labels[np.argmax(pred)])"
   ]
  },
  {
   "cell_type": "code",
   "execution_count": null,
   "metadata": {},
   "outputs": [],
   "source": [
    "#KETERANGAN : Code program ini tidak sepenuhnya dijalankan karena pada saat proses training selalu terjadi dead kernel setelah \n",
    "#masuk di epoch ke-3"
   ]
  }
 ],
 "metadata": {
  "kernelspec": {
   "display_name": "Python 3",
   "language": "python",
   "name": "python3"
  },
  "language_info": {
   "codemirror_mode": {
    "name": "ipython",
    "version": 3
   },
   "file_extension": ".py",
   "mimetype": "text/x-python",
   "name": "python",
   "nbconvert_exporter": "python",
   "pygments_lexer": "ipython3",
   "version": "3.7.3"
  }
 },
 "nbformat": 4,
 "nbformat_minor": 2
}
