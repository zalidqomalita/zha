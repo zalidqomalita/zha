{
 "cells": [
  {
   "cell_type": "code",
   "execution_count": 44,
   "metadata": {},
   "outputs": [],
   "source": [
    "import numpy as np\n",
    "import matplotlib.pyplot as plt\n",
    "import pandas as pd"
   ]
  },
  {
   "cell_type": "code",
   "execution_count": 45,
   "metadata": {},
   "outputs": [],
   "source": [
    "dataset_train = pd.read_csv('^HSItrain.csv')\n",
    "training_set = dataset_train.iloc[:,1:2].values"
   ]
  },
  {
   "cell_type": "code",
   "execution_count": 46,
   "metadata": {},
   "outputs": [
    {
     "data": {
      "text/plain": [
       "(458, 7)"
      ]
     },
     "execution_count": 46,
     "metadata": {},
     "output_type": "execute_result"
    }
   ],
   "source": [
    "dataset_train.shape\n"
   ]
  },
  {
   "cell_type": "code",
   "execution_count": 47,
   "metadata": {},
   "outputs": [],
   "source": [
    "from sklearn.preprocessing import MinMaxScaler\n",
    "sc = MinMaxScaler(feature_range=(0,1))\n",
    "training_set_scaled = sc.fit_transform(training_set)"
   ]
  },
  {
   "cell_type": "code",
   "execution_count": 48,
   "metadata": {},
   "outputs": [],
   "source": [
    "x_train = []\n",
    "y_train = []\n",
    "for i in range(60,458):\n",
    "    x_train.append(training_set_scaled[i-60:i,0])\n",
    "    y_train.append(training_set_scaled[i,0])\n",
    "\n",
    "x_train,y_train = np.array(x_train),np.array(y_train)\n",
    "\n",
    "x_train = np.reshape(x_train,(x_train.shape[0],x_train.shape[1],1))"
   ]
  },
  {
   "cell_type": "code",
   "execution_count": 49,
   "metadata": {},
   "outputs": [],
   "source": [
    "#load data test\n",
    "dataset_test = pd.read_csv('^HSItest.csv')\n",
    "real_stock_price = dataset_test.iloc[:,1:2].values"
   ]
  },
  {
   "cell_type": "code",
   "execution_count": 50,
   "metadata": {},
   "outputs": [
    {
     "data": {
      "text/plain": [
       "(34, 7)"
      ]
     },
     "execution_count": 50,
     "metadata": {},
     "output_type": "execute_result"
    }
   ],
   "source": [
    "dataset_test.shape\n"
   ]
  },
  {
   "cell_type": "code",
   "execution_count": 51,
   "metadata": {},
   "outputs": [],
   "source": [
    "from keras.models import Sequential\n",
    "from keras.layers import Dense\n",
    "from keras.layers import LSTM\n",
    "from keras.layers import Dropout"
   ]
  },
  {
   "cell_type": "code",
   "execution_count": 52,
   "metadata": {},
   "outputs": [
    {
     "name": "stdout",
     "output_type": "stream",
     "text": [
      "Epoch 1/100\n",
      "398/398 [==============================] - 28s 72ms/step - loss: 0.0673\n",
      "Epoch 2/100\n",
      "398/398 [==============================] - 7s 17ms/step - loss: 0.0214\n",
      "Epoch 3/100\n",
      "398/398 [==============================] - 7s 17ms/step - loss: 0.0157\n",
      "Epoch 4/100\n",
      "398/398 [==============================] - 7s 17ms/step - loss: 0.0121\n",
      "Epoch 5/100\n",
      "398/398 [==============================] - 7s 17ms/step - loss: 0.0106\n",
      "Epoch 6/100\n",
      "398/398 [==============================] - 7s 17ms/step - loss: 0.0099\n",
      "Epoch 7/100\n",
      "398/398 [==============================] - 7s 18ms/step - loss: 0.0092\n",
      "Epoch 8/100\n",
      "398/398 [==============================] - 7s 18ms/step - loss: 0.0087\n",
      "Epoch 9/100\n",
      "398/398 [==============================] - 7s 18ms/step - loss: 0.0082\n",
      "Epoch 10/100\n",
      "398/398 [==============================] - 7s 17ms/step - loss: 0.0078\n",
      "Epoch 11/100\n",
      "398/398 [==============================] - 7s 17ms/step - loss: 0.0077\n",
      "Epoch 12/100\n",
      "398/398 [==============================] - 7s 17ms/step - loss: 0.0072\n",
      "Epoch 13/100\n",
      "398/398 [==============================] - 7s 17ms/step - loss: 0.0070\n",
      "Epoch 14/100\n",
      "398/398 [==============================] - 7s 17ms/step - loss: 0.0074\n",
      "Epoch 15/100\n",
      "398/398 [==============================] - 8s 19ms/step - loss: 0.0089\n",
      "Epoch 16/100\n",
      "398/398 [==============================] - 7s 17ms/step - loss: 0.0071\n",
      "Epoch 17/100\n",
      "398/398 [==============================] - 7s 17ms/step - loss: 0.0070\n",
      "Epoch 18/100\n",
      "398/398 [==============================] - 7s 16ms/step - loss: 0.0066\n",
      "Epoch 19/100\n",
      "398/398 [==============================] - 7s 17ms/step - loss: 0.0065\n",
      "Epoch 20/100\n",
      "398/398 [==============================] - 7s 18ms/step - loss: 0.0069\n",
      "Epoch 21/100\n",
      "398/398 [==============================] - 7s 19ms/step - loss: 0.0072\n",
      "Epoch 22/100\n",
      "398/398 [==============================] - 7s 17ms/step - loss: 0.0065\n",
      "Epoch 23/100\n",
      "398/398 [==============================] - 8s 19ms/step - loss: 0.0072\n",
      "Epoch 24/100\n",
      "398/398 [==============================] - 7s 19ms/step - loss: 0.0058\n",
      "Epoch 25/100\n",
      "398/398 [==============================] - 7s 17ms/step - loss: 0.0059\n",
      "Epoch 26/100\n",
      "398/398 [==============================] - 7s 17ms/step - loss: 0.0066\n",
      "Epoch 27/100\n",
      "398/398 [==============================] - 7s 17ms/step - loss: 0.0055\n",
      "Epoch 28/100\n",
      "398/398 [==============================] - 7s 17ms/step - loss: 0.0053\n",
      "Epoch 29/100\n",
      "398/398 [==============================] - 7s 17ms/step - loss: 0.0053\n",
      "Epoch 30/100\n",
      "398/398 [==============================] - 7s 17ms/step - loss: 0.0063\n",
      "Epoch 31/100\n",
      "398/398 [==============================] - 7s 17ms/step - loss: 0.0057\n",
      "Epoch 32/100\n",
      "398/398 [==============================] - 7s 17ms/step - loss: 0.0047\n",
      "Epoch 33/100\n",
      "398/398 [==============================] - 7s 17ms/step - loss: 0.0043\n",
      "Epoch 34/100\n",
      "398/398 [==============================] - 7s 17ms/step - loss: 0.0040\n",
      "Epoch 35/100\n",
      "398/398 [==============================] - 7s 17ms/step - loss: 0.0041\n",
      "Epoch 36/100\n",
      "398/398 [==============================] - 7s 17ms/step - loss: 0.0042\n",
      "Epoch 37/100\n",
      "398/398 [==============================] - 7s 17ms/step - loss: 0.0036\n",
      "Epoch 38/100\n",
      "398/398 [==============================] - 7s 16ms/step - loss: 0.0037\n",
      "Epoch 39/100\n",
      "398/398 [==============================] - 7s 17ms/step - loss: 0.0037\n",
      "Epoch 40/100\n",
      "398/398 [==============================] - 7s 16ms/step - loss: 0.0031\n",
      "Epoch 41/100\n",
      "398/398 [==============================] - 7s 17ms/step - loss: 0.0032\n",
      "Epoch 42/100\n",
      "398/398 [==============================] - 7s 17ms/step - loss: 0.0031\n",
      "Epoch 43/100\n",
      "398/398 [==============================] - 7s 18ms/step - loss: 0.0032\n",
      "Epoch 44/100\n",
      "398/398 [==============================] - 9s 21ms/step - loss: 0.0030\n",
      "Epoch 45/100\n",
      "398/398 [==============================] - 7s 18ms/step - loss: 0.0027\n",
      "Epoch 46/100\n",
      "398/398 [==============================] - 7s 17ms/step - loss: 0.0026\n",
      "Epoch 47/100\n",
      "398/398 [==============================] - 7s 18ms/step - loss: 0.0026\n",
      "Epoch 48/100\n",
      "398/398 [==============================] - 7s 17ms/step - loss: 0.0027\n",
      "Epoch 49/100\n",
      "398/398 [==============================] - 7s 17ms/step - loss: 0.0024\n",
      "Epoch 50/100\n",
      "398/398 [==============================] - 8s 19ms/step - loss: 0.0026\n",
      "Epoch 51/100\n",
      "398/398 [==============================] - 9s 22ms/step - loss: 0.0023\n",
      "Epoch 52/100\n",
      "398/398 [==============================] - 7s 18ms/step - loss: 0.0022\n",
      "Epoch 53/100\n",
      "398/398 [==============================] - 7s 18ms/step - loss: 0.0023\n",
      "Epoch 54/100\n",
      "398/398 [==============================] - 8s 20ms/step - loss: 0.0022\n",
      "Epoch 55/100\n",
      "398/398 [==============================] - 8s 19ms/step - loss: 0.0020\n",
      "Epoch 56/100\n",
      "398/398 [==============================] - 7s 18ms/step - loss: 0.0020\n",
      "Epoch 57/100\n",
      "398/398 [==============================] - 8s 20ms/step - loss: 0.0021\n",
      "Epoch 58/100\n",
      "398/398 [==============================] - 7s 18ms/step - loss: 0.0020\n",
      "Epoch 59/100\n",
      "398/398 [==============================] - 8s 20ms/step - loss: 0.0022\n",
      "Epoch 60/100\n",
      "398/398 [==============================] - 8s 19ms/step - loss: 0.0024\n",
      "Epoch 61/100\n",
      "398/398 [==============================] - 7s 18ms/step - loss: 0.0024\n",
      "Epoch 62/100\n",
      "398/398 [==============================] - 8s 19ms/step - loss: 0.0020\n",
      "Epoch 63/100\n",
      "398/398 [==============================] - 8s 19ms/step - loss: 0.0020\n",
      "Epoch 64/100\n",
      "398/398 [==============================] - 7s 18ms/step - loss: 0.0024\n",
      "Epoch 65/100\n",
      "398/398 [==============================] - 7s 18ms/step - loss: 0.0020\n",
      "Epoch 66/100\n",
      "398/398 [==============================] - 7s 18ms/step - loss: 0.0021\n",
      "Epoch 67/100\n",
      "398/398 [==============================] - 8s 19ms/step - loss: 0.0018\n",
      "Epoch 68/100\n",
      "398/398 [==============================] - 7s 18ms/step - loss: 0.0019\n",
      "Epoch 69/100\n",
      "398/398 [==============================] - 7s 17ms/step - loss: 0.0018\n",
      "Epoch 70/100\n",
      "398/398 [==============================] - 7s 18ms/step - loss: 0.0020\n",
      "Epoch 71/100\n",
      "398/398 [==============================] - 7s 18ms/step - loss: 0.0019\n",
      "Epoch 72/100\n",
      "398/398 [==============================] - 10s 24ms/step - loss: 0.0019\n",
      "Epoch 73/100\n",
      "398/398 [==============================] - 8s 19ms/step - loss: 0.0018\n",
      "Epoch 74/100\n",
      "398/398 [==============================] - 7s 17ms/step - loss: 0.0019\n",
      "Epoch 75/100\n",
      "398/398 [==============================] - 7s 17ms/step - loss: 0.0019\n",
      "Epoch 76/100\n",
      "398/398 [==============================] - 7s 17ms/step - loss: 0.0020\n",
      "Epoch 77/100\n",
      "398/398 [==============================] - 7s 17ms/step - loss: 0.0016\n",
      "Epoch 78/100\n",
      "398/398 [==============================] - 7s 18ms/step - loss: 0.0017\n",
      "Epoch 79/100\n",
      "398/398 [==============================] - 6s 16ms/step - loss: 0.0017\n",
      "Epoch 80/100\n",
      "398/398 [==============================] - 6s 16ms/step - loss: 0.0018\n",
      "Epoch 81/100\n",
      "398/398 [==============================] - 6s 15ms/step - loss: 0.0016\n",
      "Epoch 82/100\n",
      "398/398 [==============================] - 8s 20ms/step - loss: 0.0017\n",
      "Epoch 83/100\n",
      "398/398 [==============================] - 8s 20ms/step - loss: 0.0017\n",
      "Epoch 84/100\n",
      "398/398 [==============================] - 8s 20ms/step - loss: 0.0017\n",
      "Epoch 85/100\n",
      "398/398 [==============================] - 8s 20ms/step - loss: 0.0016\n",
      "Epoch 86/100\n",
      "398/398 [==============================] - 7s 18ms/step - loss: 0.0016\n",
      "Epoch 87/100\n",
      "398/398 [==============================] - 7s 18ms/step - loss: 0.0016\n",
      "Epoch 88/100\n",
      "398/398 [==============================] - 7s 17ms/step - loss: 0.0018\n",
      "Epoch 89/100\n",
      "398/398 [==============================] - 8s 19ms/step - loss: 0.0019\n",
      "Epoch 90/100\n",
      "398/398 [==============================] - 7s 16ms/step - loss: 0.0020\n",
      "Epoch 91/100\n",
      "398/398 [==============================] - 8s 21ms/step - loss: 0.0017\n",
      "Epoch 92/100\n",
      "398/398 [==============================] - 7s 18ms/step - loss: 0.0016\n",
      "Epoch 93/100\n",
      "398/398 [==============================] - 7s 18ms/step - loss: 0.0016\n",
      "Epoch 94/100\n",
      "398/398 [==============================] - 8s 19ms/step - loss: 0.0016\n",
      "Epoch 95/100\n",
      "398/398 [==============================] - 7s 17ms/step - loss: 0.0015\n",
      "Epoch 96/100\n",
      "398/398 [==============================] - 7s 17ms/step - loss: 0.0016\n",
      "Epoch 97/100\n",
      "398/398 [==============================] - 7s 17ms/step - loss: 0.0016\n",
      "Epoch 98/100\n"
     ]
    },
    {
     "name": "stdout",
     "output_type": "stream",
     "text": [
      "398/398 [==============================] - 7s 17ms/step - loss: 0.0016\n",
      "Epoch 99/100\n",
      "398/398 [==============================] - 7s 17ms/step - loss: 0.0017\n",
      "Epoch 100/100\n",
      "398/398 [==============================] - 7s 18ms/step - loss: 0.0016\n"
     ]
    },
    {
     "data": {
      "text/plain": [
       "<keras.callbacks.History at 0x1a56719a90>"
      ]
     },
     "execution_count": 52,
     "metadata": {},
     "output_type": "execute_result"
    }
   ],
   "source": [
    "regressor = Sequential()\n",
    "\n",
    "regressor.add(LSTM(units = 50,return_sequences=True,input_shape = (x_train.shape[1],1)))\n",
    "regressor.add(Dropout(0,2))\n",
    "\n",
    "regressor.add(LSTM(units = 50,return_sequences = True))\n",
    "regressor.add(Dropout(0,2))\n",
    "\n",
    "regressor.add(LSTM(units = 50,return_sequences = True))\n",
    "regressor.add(Dropout(0,2))\n",
    "\n",
    "regressor.add(LSTM(units = 50))\n",
    "regressor.add(Dropout(0,2))\n",
    "\n",
    "regressor.add(Dense(units = 1))\n",
    "\n",
    "regressor.compile(optimizer = 'adam', loss = 'mean_squared_error')\n",
    "\n",
    "regressor.fit(x_train,y_train,epochs = 100, batch_size = 32)"
   ]
  },
  {
   "cell_type": "code",
   "execution_count": 53,
   "metadata": {},
   "outputs": [],
   "source": [
    "dataset_total = pd.concat((dataset_train['Open'],dataset_test['Open']),axis = 0)\n",
    "inputs = dataset_total[len(dataset_total)-len(dataset_test)-60:].values\n",
    "inputs = inputs.reshape(-1,1)\n",
    "inputs = sc.transform(inputs)\n",
    "x_test = []\n",
    "for i in range(60,94):\n",
    "    x_test.append(inputs[i-60:i,0])\n",
    "x_test = np.array(x_test)\n",
    "x_test = np.reshape(x_test,(x_test.shape[0],x_test.shape[1],1))\n",
    "predicted_stock_price = regressor.predict(x_test)\n",
    "predicted_stock_price = sc.inverse_transform(predicted_stock_price)"
   ]
  },
  {
   "cell_type": "code",
   "execution_count": null,
   "metadata": {},
   "outputs": [],
   "source": []
  },
  {
   "cell_type": "code",
   "execution_count": 54,
   "metadata": {},
   "outputs": [
    {
     "data": {
      "image/png": "[encoded data removed]",
      "text/plain": [
       "<Figure size 432x288 with 1 Axes>"
      ]
     },
     "metadata": {
      "needs_background": "light"
     },
     "output_type": "display_data"
    }
   ],
   "source": [
    "plt.plot(real_stock_price,color='black',label='HSI Stock Price')\n",
    "plt.plot(predicted_stock_price,color='green',label='Predicted HSI Stock Price')\n",
    "plt.title('HSI Stock Price Prediction - 100 epoch')\n",
    "plt.xlabel('Time')\n",
    "plt.ylabel('HSI Stock Price')\n",
    "plt.legend()\n",
    "plt.show()"
   ]
  },
  {
   "cell_type": "code",
   "execution_count": null,
   "metadata": {},
   "outputs": [],
   "source": []
  },
  {
   "cell_type": "code",
   "execution_count": null,
   "metadata": {},
   "outputs": [],
   "source": []
  }
 ],
 "metadata": {
  "kernelspec": {
   "display_name": "Python 3",
   "language": "python",
   "name": "python3"
  },
  "language_info": {
   "codemirror_mode": {
    "name": "ipython",
    "version": 3
   },
   "file_extension": ".py",
   "mimetype": "text/x-python",
   "name": "python",
   "nbconvert_exporter": "python",
   "pygments_lexer": "ipython3",
   "version": "3.7.3"
  }
 },
 "nbformat": 4,
 "nbformat_minor": 2
}
